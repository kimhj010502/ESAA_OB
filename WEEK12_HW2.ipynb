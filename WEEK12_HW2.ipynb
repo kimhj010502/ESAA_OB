{
  "nbformat": 4,
  "nbformat_minor": 0,
  "metadata": {
    "colab": {
      "provenance": [],
      "authorship_tag": "ABX9TyMVFabQQvqw7qWF93ESOWWW",
      "include_colab_link": true
    },
    "kernelspec": {
      "name": "python3",
      "display_name": "Python 3"
    },
    "language_info": {
      "name": "python"
    }
  },
  "cells": [
    {
      "cell_type": "markdown",
      "metadata": {
        "id": "view-in-github",
        "colab_type": "text"
      },
      "source": [
        "<a href=\"https://colab.research.google.com/github/kimhj010502/ESAA_OB/blob/main/WEEK12_HW2.ipynb\" target=\"_parent\"><img src=\"https://colab.research.google.com/assets/colab-badge.svg\" alt=\"Open In Colab\"/></a>"
      ]
    },
    {
      "cell_type": "markdown",
      "source": [
        "# <b> [파이썬 머신러닝 완벽 가이드] </b> <br>\n",
        "## Chapter 09 추천 시스템"
      ],
      "metadata": {
        "id": "gaUff7qlyy95"
      }
    },
    {
      "cell_type": "markdown",
      "source": [
        "## 9.8 파이썬 추천 시스템 패키지 - Surprise <br>\n",
        "### Surprise 패키지 소개 <br>\n",
        "- 다양한 추천 알고리즘. 예를 들어 사용자 또는 아이템 기반 최근접 이웃 협업 필터링. SVD, SVD++, NMF 기반의 잠재 요인 협업 필터링을 쉽게 적용해 추천 시스템을 구축할 수 있음\n",
        "- Surprise의 핵심 API는 사이킷런의 핵심 API와 유사한 API명으로 작성되었음. 예를 들어 `fit()`, `predict()` API로 추천 데이터 학습과 예측, `train_test_split()`으로 추천 학습 데이터 세트와 예측 데이터 세트 분리, `cross_validate()`, GridSearchCV 클래스를 통해 추천 시스템을 위한 모델 셀렉션, 평가, 하이퍼 파라미터 튜닝 등의 기능을 제공함"
      ],
      "metadata": {
        "id": "J1toVhNuy1Cz"
      }
    },
    {
      "cell_type": "markdown",
      "source": [
        "### Surprise를 이용한 추천 시스템 구축 <br>"
      ],
      "metadata": {
        "id": "02Rgkw0x2JKL"
      }
    },
    {
      "cell_type": "code",
      "source": [
        "! pip install scikit-surprise"
      ],
      "metadata": {
        "colab": {
          "base_uri": "https://localhost:8080/"
        },
        "id": "TUFuEZA22hCW",
        "outputId": "2d5222cf-2fa9-47e8-d8e4-5be92d950245"
      },
      "execution_count": 1,
      "outputs": [
        {
          "output_type": "stream",
          "name": "stdout",
          "text": [
            "Looking in indexes: https://pypi.org/simple, https://us-python.pkg.dev/colab-wheels/public/simple/\n",
            "Collecting scikit-surprise\n",
            "  Downloading scikit-surprise-1.1.1.tar.gz (11.8 MB)\n",
            "\u001b[K     |████████████████████████████████| 11.8 MB 9.1 MB/s \n",
            "\u001b[?25hRequirement already satisfied: joblib>=0.11 in /usr/local/lib/python3.7/dist-packages (from scikit-surprise) (1.2.0)\n",
            "Requirement already satisfied: numpy>=1.11.2 in /usr/local/lib/python3.7/dist-packages (from scikit-surprise) (1.21.6)\n",
            "Requirement already satisfied: scipy>=1.0.0 in /usr/local/lib/python3.7/dist-packages (from scikit-surprise) (1.7.3)\n",
            "Requirement already satisfied: six>=1.10.0 in /usr/local/lib/python3.7/dist-packages (from scikit-surprise) (1.15.0)\n",
            "Building wheels for collected packages: scikit-surprise\n",
            "  Building wheel for scikit-surprise (setup.py) ... \u001b[?25l\u001b[?25hdone\n",
            "  Created wheel for scikit-surprise: filename=scikit_surprise-1.1.1-cp37-cp37m-linux_x86_64.whl size=1633973 sha256=a6422333a45b8c357218fc144bc2197dbde31488a8a360022411ccb6decc3798\n",
            "  Stored in directory: /root/.cache/pip/wheels/76/44/74/b498c42be47b2406bd27994e16c5188e337c657025ab400c1c\n",
            "Successfully built scikit-surprise\n",
            "Installing collected packages: scikit-surprise\n",
            "Successfully installed scikit-surprise-1.1.1\n"
          ]
        }
      ]
    },
    {
      "cell_type": "code",
      "execution_count": 2,
      "metadata": {
        "id": "yHfCGd0kv2r4"
      },
      "outputs": [],
      "source": [
        "from surprise import SVD\n",
        "from surprise import Dataset\n",
        "from surprise import accuracy\n",
        "from surprise.model_selection import train_test_split"
      ]
    },
    {
      "cell_type": "code",
      "source": [
        "data = Dataset.load_builtin('ml-100k', prompt=False)\n",
        "#수행 시마다 동일하게 데이터를 분할하기 위해 random_state 값 부여\n",
        "trainset, testset = train_test_split(data, test_size = .25, random_state = 0)"
      ],
      "metadata": {
        "colab": {
          "base_uri": "https://localhost:8080/"
        },
        "id": "YKama1Lm_OFA",
        "outputId": "9e7463ab-dcd0-4e86-a095-2fe39e17a1c4"
      },
      "execution_count": 3,
      "outputs": [
        {
          "output_type": "stream",
          "name": "stdout",
          "text": [
            "Trying to download dataset from http://files.grouplens.org/datasets/movielens/ml-100k.zip...\n",
            "Done! Dataset ml-100k has been saved to /root/.surprise_data/ml-100k\n"
          ]
        }
      ]
    },
    {
      "cell_type": "markdown",
      "source": [
        "- Surprise는 자체적으로 로우 레벨의 데이터를 칼럼 레벨의 데이터로 변경하므로 원본인 로우 레벨의 사용자-아이템 평점 데이터를 데이터 세트로 적용해야 함\n"
      ],
      "metadata": {
        "id": "PnkKrl6AaBgx"
      }
    },
    {
      "cell_type": "code",
      "source": [
        "algo = SVD() #알고리즘 객체 생성성\n",
        "algo.fit(trainset)"
      ],
      "metadata": {
        "id": "x2FSznX79hPN",
        "colab": {
          "base_uri": "https://localhost:8080/"
        },
        "outputId": "1b5731e0-6b37-488a-ef3f-9fef40b82a8d"
      },
      "execution_count": 4,
      "outputs": [
        {
          "output_type": "execute_result",
          "data": {
            "text/plain": [
              "<surprise.prediction_algorithms.matrix_factorization.SVD at 0x7f5fe21bab50>"
            ]
          },
          "metadata": {},
          "execution_count": 4
        }
      ]
    },
    {
      "cell_type": "markdown",
      "source": [
        "- Surprise에서 추천을 예측하는 메소드: `test()`, `predict()`\n",
        "    - `test()`: 사용자-아이템 평점 데이터를 세트 전체에 대해서 추천을 예측하는 메소드로, 입력된 데이터 세트에 대해 추천 데이터 세트를 만들어줌\n",
        "    - `preidct()`: 개별 사용자와 영황에 대한 추천 평점을 반환해줌"
      ],
      "metadata": {
        "id": "kZ--78onaXbU"
      }
    },
    {
      "cell_type": "code",
      "source": [
        "predictions = algo.test(testset)\n",
        "print('prediction type:', type(predictions), ' size:', len(predictions))\n",
        "print('prediction 결과의 최초 5개 추출')\n",
        "predictions[:5]"
      ],
      "metadata": {
        "id": "HDsFvUZualwU",
        "colab": {
          "base_uri": "https://localhost:8080/"
        },
        "outputId": "b8a8ec62-6b74-4230-881e-374cd62c4691"
      },
      "execution_count": 5,
      "outputs": [
        {
          "output_type": "stream",
          "name": "stdout",
          "text": [
            "prediction type: <class 'list'>  size: 25000\n",
            "prediction 결과의 최초 5개 추출\n"
          ]
        },
        {
          "output_type": "execute_result",
          "data": {
            "text/plain": [
              "[Prediction(uid='120', iid='282', r_ui=4.0, est=3.598649049156332, details={'was_impossible': False}),\n",
              " Prediction(uid='882', iid='291', r_ui=4.0, est=3.9129331375520056, details={'was_impossible': False}),\n",
              " Prediction(uid='535', iid='507', r_ui=5.0, est=3.7943944603756603, details={'was_impossible': False}),\n",
              " Prediction(uid='697', iid='244', r_ui=5.0, est=3.927132773216376, details={'was_impossible': False}),\n",
              " Prediction(uid='751', iid='385', r_ui=4.0, est=3.378942086913586, details={'was_impossible': False})]"
            ]
          },
          "metadata": {},
          "execution_count": 5
        }
      ]
    },
    {
      "cell_type": "markdown",
      "source": [
        "- Prediction 객체는 Surprise 패키지에서 제공하는 데이터 타입이며, 개별 사용자 아이디 (uid), 영화 (또는 아이템) 아이디 (iid)와 실제 평점 (r_ui) 정보에 기반해 Surprise의 추천 예측 평점(est) 데이터를 튜플 형태로 가지고 있음\n",
        "- Prediction 객체의 details 속성은 내부 처리 시 추천 예측을 할 수 없는 경우에 로그용으로 데이터를 남기는 데 사용되며 'was_impossible'이 True이면 예측값을 생성할 수 없는 데이터라는 의미임"
      ],
      "metadata": {
        "id": "c-fyMRXncYFy"
      }
    },
    {
      "cell_type": "code",
      "source": [
        "[(pred.uid, pred.iid, pred.est) for pred in predictions[:3]]"
      ],
      "metadata": {
        "id": "fBTSvAKWdAcX",
        "colab": {
          "base_uri": "https://localhost:8080/"
        },
        "outputId": "07fb267e-6fdf-4379-b0e9-aff15050765f"
      },
      "execution_count": 6,
      "outputs": [
        {
          "output_type": "execute_result",
          "data": {
            "text/plain": [
              "[('120', '282', 3.598649049156332),\n",
              " ('882', '291', 3.9129331375520056),\n",
              " ('535', '507', 3.7943944603756603)]"
            ]
          },
          "metadata": {},
          "execution_count": 6
        }
      ]
    },
    {
      "cell_type": "markdown",
      "source": [
        "- `predict()`는 개별 사용자의 아이템에 대한 추천 평점을 예측해 줌\n",
        "- 인자로 개별 사용자 아이디, 아이템 아이디를 입력하면 추천 예측 평점을 포함한 정보를 반환함\n",
        "- 기준 평점 정보는 선택 사항이며 사용자 아이디, 아이템 아이디는 문자열로 입력해야 함"
      ],
      "metadata": {
        "id": "F2hBFJUBdFx_"
      }
    },
    {
      "cell_type": "code",
      "source": [
        "#사용자 아이디, 아이템 아이디는 문자열로 입력해야 함\n",
        "uid = str(196)\n",
        "iid = str(302)\n",
        "pred = algo.predict(uid, iid)\n",
        "print(pred)"
      ],
      "metadata": {
        "id": "zWL9DHi0en_g",
        "colab": {
          "base_uri": "https://localhost:8080/"
        },
        "outputId": "2df74b00-b356-49d1-896b-79f3bc579467"
      },
      "execution_count": 7,
      "outputs": [
        {
          "output_type": "stream",
          "name": "stdout",
          "text": [
            "user: 196        item: 302        r_ui = None   est = 4.20   {'was_impossible': False}\n"
          ]
        }
      ]
    },
    {
      "cell_type": "markdown",
      "source": [
        "- `predict()`는 개별 사용자와 아이템 정보를 입력하면 추천 예측 평점을 est로 반환함\n",
        "- `test()` 메소드는 입력 데이터 세트의 모든 사용자와 아이템 아이디에 대해서 `predict()`를 반복적으로 수행한 결과임 "
      ],
      "metadata": {
        "id": "g3E6lPQZeyPf"
      }
    },
    {
      "cell_type": "code",
      "source": [
        "accuracy.rmse(predictions)"
      ],
      "metadata": {
        "id": "5ihVixLhe-Of",
        "colab": {
          "base_uri": "https://localhost:8080/"
        },
        "outputId": "ba4ef869-54a8-438f-b240-de03931bce84"
      },
      "execution_count": 8,
      "outputs": [
        {
          "output_type": "stream",
          "name": "stdout",
          "text": [
            "RMSE: 0.9486\n"
          ]
        },
        {
          "output_type": "execute_result",
          "data": {
            "text/plain": [
              "0.9485516989305646"
            ]
          },
          "metadata": {},
          "execution_count": 8
        }
      ]
    },
    {
      "cell_type": "markdown",
      "source": [
        "### Surprise 주요 모듈 소개 <br>\n",
        "#### Dataset\n",
        "- Surprise는 user_id, item_id, rating 데이터가 로우 레벨로 된 데이터 세트만 적용할 수 있기 때문에 데이터의 첫 번째 칼럼을 사용자 아이디, 두 번째 칼럼을 아이템 아이디, 세 번째 칼럼을 평점으로 가정해 데이터를 로딩하고 네 번째 칼럼부터는 아예 로딩을 수행하지 않음"
      ],
      "metadata": {
        "id": "ehXFbBHAfspx"
      }
    },
    {
      "cell_type": "markdown",
      "source": [
        "#### OS 파일 데이터를 Surprise 데이터 세트로 로딩\n",
        "- 로딩되는 데이터 파일에 칼럼명을 가지는 헤더 문자열이 있으면 안됨"
      ],
      "metadata": {
        "id": "lFI_Wc8ugQDu"
      }
    },
    {
      "cell_type": "code",
      "source": [
        "from google.colab import drive\n",
        "drive.mount('/content/drive')"
      ],
      "metadata": {
        "colab": {
          "base_uri": "https://localhost:8080/"
        },
        "id": "flwL35_shvwY",
        "outputId": "6aca7d69-a15d-4047-eee7-c66140d27fab"
      },
      "execution_count": 9,
      "outputs": [
        {
          "output_type": "stream",
          "name": "stdout",
          "text": [
            "Mounted at /content/drive\n"
          ]
        }
      ]
    },
    {
      "cell_type": "code",
      "source": [
        "import pandas as pd\n",
        "\n",
        "ratings = pd.read_csv('/content/drive/MyDrive/ESAA/OB/Data/ml-latest-small/ratings.csv')\n",
        "#ratings_noh.csv 파일로 언로드 시 인덱스와 헤더를 모두 제거한 새로운 파일 생성\n",
        "ratings.to_csv('/content/drive/MyDrive/ESAA/OB/Data/ml-latest-small/ratings_noh.csv', index=False, header=False)"
      ],
      "metadata": {
        "id": "RxgF_i9qg30k"
      },
      "execution_count": 10,
      "outputs": []
    },
    {
      "cell_type": "code",
      "source": [
        "from surprise import Reader\n",
        "\n",
        "reader = Reader(line_format='user item rating timestamp', sep=',', rating_scale=(0.5, 5))\n",
        "data = Dataset.load_from_file('/content/drive/MyDrive/ESAA/OB/Data/ml-latest-small/ratings_noh.csv', reader=reader)"
      ],
      "metadata": {
        "id": "OZfEDnGDh9KB"
      },
      "execution_count": 13,
      "outputs": []
    },
    {
      "cell_type": "markdown",
      "source": [
        "- Reader 클래스의 주요 생성 파라미터\n",
        "    - line_format (string): 칼럼을 순서대로 나열하고 입력된 문자열을 공백으로 분리해 칼럼으로 인식함\n",
        "    - sep (char): 칼럼을 분리하는 분리자이며, 디폴트는 '\\t'임. 판다스 DataFrame에서 입력받을 경우에는 기재할 필요가 없음\n",
        "    - rating_scale (tuple, optional): 평점 값의 최소 ~ 최대 평점을 설정함. 디폴트는 (1,5)이지만 ratings.csv 파일의 경우는 최소 평점이 0.5, 최대 평점이 5이므로 (0.5,5)로 설정하였음"
      ],
      "metadata": {
        "id": "1pJNXJVgoM3U"
      }
    },
    {
      "cell_type": "code",
      "source": [
        "trainset, testset = train_test_split(data, test_size=.25, random_state=0)\n",
        "\n",
        "#수행 시마다 동일한 결과를 도출하기 위해 random_state 설정\n",
        "algo = SVD(n_factors=50, random_state=0)\n",
        "\n",
        "#학습 데이터 세트로 학습하고 나서 테스트 데이터 세트로 평점 예측 후 RMSE 평가\n",
        "algo.fit(trainset)\n",
        "predictions = algo.test(testset)\n",
        "accuracy.rmse(predictions)"
      ],
      "metadata": {
        "id": "491cYmlfolZm",
        "colab": {
          "base_uri": "https://localhost:8080/"
        },
        "outputId": "3ea350fd-92a2-4928-ed2f-a65418d0fd15"
      },
      "execution_count": 14,
      "outputs": [
        {
          "output_type": "stream",
          "name": "stdout",
          "text": [
            "RMSE: 0.8682\n"
          ]
        },
        {
          "output_type": "execute_result",
          "data": {
            "text/plain": [
              "0.8681952927143516"
            ]
          },
          "metadata": {},
          "execution_count": 14
        }
      ]
    },
    {
      "cell_type": "markdown",
      "source": [
        "#### 판다스 DataFrame에서 Surprise 데이터 세트로 로딩\n",
        "- Dataset.load_from_df()를 이용하면 판다스의 DataFrame에서도 Surprise 데이터 세트로 로딩할 수 있음\n",
        "- 주의할 점은 DataFrame 역시 사용자 아이디, 아이템 아이디, 평점 칼럼 순서를 지켜야 한다는 것임"
      ],
      "metadata": {
        "id": "uon5eQB5o-7w"
      }
    },
    {
      "cell_type": "code",
      "source": [
        "import pandas as pd\n",
        "from surprise import Reader, Dataset\n",
        "\n",
        "ratings = pd.read_csv('/content/drive/MyDrive/ESAA/OB/Data/ml-latest-small/ratings.csv')\n",
        "reader = Reader(rating_scale=(0.5,5.0))\n",
        "\n",
        "#ratings DataFrame에서 칼럼은 사용자 아이디, 아이템 아이디, 평점 순서를 지켜야 함\n",
        "data = Dataset.load_from_df(ratings[['userId','movieId','rating']], reader)\n",
        "trainset, testset = train_test_split(data, test_size=.25, random_state=0)\n",
        "\n",
        "algo = SVD(n_factors=50, random_state=0)\n",
        "algo.fit(trainset)\n",
        "predictions = algo.test(testset)\n",
        "accuracy.rmse(predictions)"
      ],
      "metadata": {
        "id": "Zw47dZfAqR4C",
        "colab": {
          "base_uri": "https://localhost:8080/"
        },
        "outputId": "ce25740f-a71d-4387-f24d-3a5eb52b9065"
      },
      "execution_count": 15,
      "outputs": [
        {
          "output_type": "stream",
          "name": "stdout",
          "text": [
            "RMSE: 0.8682\n"
          ]
        },
        {
          "output_type": "execute_result",
          "data": {
            "text/plain": [
              "0.8681952927143516"
            ]
          },
          "metadata": {},
          "execution_count": 15
        }
      ]
    },
    {
      "cell_type": "markdown",
      "source": [
        "### Surprise 추천 알고리즘 클래스 <br>\n",
        "- SVD: 행렬 분해를 통한 잠재 요인 협업 필터링을 위한 SVD 알고리즘\n",
        "- KNNBasic: 최근접 이웃 협업 필터링을 위한 KNN 알고리즘\n",
        "- BaselineOnly: 사용자 Bias를 감안한 SGD 베이스라인 알고리즘\n",
        "<br><br>\n",
        "- Surprise SVD 비용 함수는 사용자 베이스라인(Baseline) 편향성을 감안한 평점 예측에 Regularization을 적용한 것임\n",
        "    - 사용자 예측 Rating: \n",
        "$ \\hat{rui} = μ + bu + bi + qTipu $\n",
        "    - Regularization을 적용한 비용 함수: \n",
        "$ Σ(rui-\\hat{rui})2 + λ(b2i+b2u+||qi||2+||pu||2) $\n",
        "<br><br>\n",
        "- SVD 클래스의 입력 파라미터\n",
        "    - n_factors: 잠재 요인 K의 개수로 디폴트는 100이며며 커질수록 정확도가 높아질 수 있으나 과적합 문제가 발생할 수 있음\n",
        "    - n_epochs: SGD (Stochastic Gradient Descent) 수행 시 반복 횟수로로 디폴트는 20\n",
        "    - biased (bool): 베이스라인 사용자 편향 적용 여부로 디폴트는 True\n",
        "- n_factors와 n_epochs 값을 변경해 튜닝할 수 있으나 튜닝 효과는 크지 않음'\n",
        "- biased의 경우는 큰 이슈가 없는 한 디폴트인 True로 설정을 유지하는 것이 좋음\n",
        "<br><br>\n",
        "<img src='https://ifh.cc/g/zZpNKd.png' border='0'>\n",
        "<br>\n",
        "- SVD++ 알고리즘의 RMSE, MAE 성적이 갖아 좋지만, 상대적으로 시간이 너무 오래 걸려 데이터가 조금만 더 커져도 사용하기가 어려울 것으로 보임\n",
        "- SVD++를 제외하면 SVD와 k-NN Baseline이 갖아 성능 평가 수치가 좋음\n",
        "- k-NN 자체는 성능이 상대적으로 뒤지지만, Baseline을 결합한 경우 성능 평가 수치가 대폭 향상되었음\n",
        "- Baseline이라는 의미는 각 개인이 평점을 부여하는 성향을 반영해 평점을 계산하는 방식을 말함\n"
      ],
      "metadata": {
        "id": "bt74nKgFr0Y2"
      }
    },
    {
      "cell_type": "markdown",
      "source": [
        "### 베이스라인 평점\n",
        "- 개인의 성향을 반영해 아이템 평가에 편향성(bias) 요소를 반영하여 평점을 부과하는 것을 베이스라인 평점 (Baseline Rating)이라고 함\n",
        "- 보통 베이스라인 평점은 전체 평균 평점 + 사용자 편향 점수 + 아이템 편향 점수 공식으로 계산됨\n",
        "    - 전체 평균 평점 = 모든 사용자의 아이템에 대한 평점을 평균한 값\n",
        "    - 사용자 편향 점수 = 사용자별 아이템 평점 평균 값 - 전체 평균 평점\n",
        "    - 아이템 편향 점수 = 아이템별 평점 평균 값 - 전체 평균 평점\n",
        "    <br><br> <img src='https://ifh.cc/g/RHbdXd.jpg' border='0'>\n"
      ],
      "metadata": {
        "id": "m3dMAWJtwR_E"
      }
    },
    {
      "cell_type": "markdown",
      "source": [
        "### 교차 검증과 하이퍼 파라미터 튜닝 <br>\n",
        "- Surprise는 교차 검증과 하이퍼 파라미터 튜닝을 위해 사이킷런과 유사한 `cross_validate()`와 GridSearchCV 클래스를 제공함\n",
        "- `cross_validate()` 함수는 surprise.model_selection 모듈 내에 존재하며, 폴드된 데이터 세트의 개수와 성능 측정 방법을 명시해 교차 검증을 수행함\n"
      ],
      "metadata": {
        "id": "9_WJQl55xaP0"
      }
    },
    {
      "cell_type": "code",
      "source": [
        "from surprise.model_selection import cross_validate\n",
        "\n",
        "#판다스 DataFrame에서 Surprise 데이터 세트로 데이터 로딩\n",
        "ratings = pd.read_csv('/content/drive/MyDrive/ESAA/OB/Data/ml-latest-small/ratings.csv') #reading data in pandas df\n",
        "reader = Reader(rating_scale=(0.5,5.0))\n",
        "data = Dataset.load_from_df(ratings[['userId','movieId','rating']], reader)\n",
        "\n",
        "algo = SVD(random_state=0)\n",
        "cross_validate(algo, data, measures=['RMSE','MAE'], cv=5, verbose=True)"
      ],
      "metadata": {
        "id": "pDgwH0Hnykso",
        "colab": {
          "base_uri": "https://localhost:8080/"
        },
        "outputId": "97de10a1-b3e2-49cf-d608-db12e6d924b6"
      },
      "execution_count": 16,
      "outputs": [
        {
          "output_type": "stream",
          "name": "stdout",
          "text": [
            "Evaluating RMSE, MAE of algorithm SVD on 5 split(s).\n",
            "\n",
            "                  Fold 1  Fold 2  Fold 3  Fold 4  Fold 5  Mean    Std     \n",
            "RMSE (testset)    0.8764  0.8775  0.8667  0.8782  0.8728  0.8743  0.0043  \n",
            "MAE (testset)     0.6701  0.6729  0.6682  0.6729  0.6714  0.6711  0.0018  \n",
            "Fit time          6.00    7.49    6.84    5.67    5.13    6.23    0.84    \n",
            "Test time         0.14    0.28    0.27    0.27    0.14    0.22    0.06    \n"
          ]
        },
        {
          "output_type": "execute_result",
          "data": {
            "text/plain": [
              "{'test_rmse': array([0.87644292, 0.8774617 , 0.86665451, 0.87817326, 0.87275804]),\n",
              " 'test_mae': array([0.67010177, 0.67285072, 0.66823916, 0.67288929, 0.67140531]),\n",
              " 'fit_time': (6.002153635025024,\n",
              "  7.487977027893066,\n",
              "  6.83938193321228,\n",
              "  5.674584627151489,\n",
              "  5.126332521438599),\n",
              " 'test_time': (0.14363884925842285,\n",
              "  0.27965354919433594,\n",
              "  0.2681722640991211,\n",
              "  0.2691769599914551,\n",
              "  0.14416193962097168)}"
            ]
          },
          "metadata": {},
          "execution_count": 16
        }
      ]
    },
    {
      "cell_type": "markdown",
      "source": [
        "- Surprise의 GridSearchCV도 사이킷런의 GridSearchCV와 유사하게 교차 검증을 통한 하이퍼 파라미터 최적화를 수행함\n",
        "- 하이퍼 파라미터 최적화는 알고리즘의 유형에 따라 다를 수 있지만, SVD의 경우 주로 점진적 하강 방식 (Stochastic Gradient Descent)의 반복 횟수를 지정하는 n_epochs와 SVD의 잠재 요인 K의 크기를 지정하는 n_factors를 튜닝함"
      ],
      "metadata": {
        "id": "LvvrfuGpzzy_"
      }
    },
    {
      "cell_type": "code",
      "source": [
        "from surprise.model_selection import GridSearchCV\n",
        "\n",
        "#최적화할 파라미터를 딕셔너리 형태로 지정\n",
        "param_grid = {'n_epochs': [20,40,60],\n",
        "              'n_factors': [50,100,200]}\n",
        "\n",
        "#CV를 3개 폴드 세트로 지정, 성능 평가는 rmse, mse로 수행하도록 GridSearchCV 구성\n",
        "gs = GridSearchCV(SVD, param_grid, measures=['rmse','mae'], cv=3)\n",
        "gs.fit(data)\n",
        "\n",
        "#최고 RMSE Evaluation 점수와 그 때의 하이퍼 파라미터\n",
        "print(gs.best_score['rmse'])\n",
        "print(gs.best_params['rmse'])"
      ],
      "metadata": {
        "id": "gawBuvwt0C50",
        "colab": {
          "base_uri": "https://localhost:8080/"
        },
        "outputId": "0a5680f5-f8e2-47ae-99a2-bea176750972"
      },
      "execution_count": 17,
      "outputs": [
        {
          "output_type": "stream",
          "name": "stdout",
          "text": [
            "0.8771556311243622\n",
            "{'n_epochs': 20, 'n_factors': 50}\n"
          ]
        }
      ]
    },
    {
      "cell_type": "markdown",
      "source": [
        "### Surprise를 이용한 개인화 영화 추천 시스템 구축 <br>\n",
        "- Surprise를 이용해 잠재 요인 협업 필터링 기반의 개인화된 영화 추천을 구현함\n",
        "- Surprise 패키지로 학습된 추천 알고리즘을 기반으로 특정 사용자가 아직 평점을 매기지 않은 영화 중에서 개인 취향에 가장 적절한 영화를 추천함\n",
        "<br><br>\n",
        "- Surprise는 데이터 세트를 train_test_split()을 이용해 내부에서 사용하는 TrainSet 클래스 객체로 변환하지 않으면 fit()을 통해 학습할 수가 없음"
      ],
      "metadata": {
        "id": "JuqjyeaN02IX"
      }
    },
    {
      "cell_type": "code",
      "source": [
        "#다음 코드는 train_test_split()으로 분리되지 않는 데이터 세트에 fit()을 호출해 오류가 발생함\n",
        "data = Dataset.load_from_df(ratings[['userId','movieId','rating']], reader)\n",
        "algo = SVD(n_factors=50, random_state=0)\n",
        "algo.fit(data)"
      ],
      "metadata": {
        "id": "r_1LLDYI2SpN"
      },
      "execution_count": null,
      "outputs": []
    },
    {
      "cell_type": "code",
      "source": [
        "from surprise.dataset import DatasetAutoFolds\n",
        "\n",
        "reader = Reader(line_format='user item rating timestamp', sep=',', rating_scale=(0.5,5))\n",
        "#DatasetAutoFolds 클래스를 ratings_noh.csv 파일 기반으로 생성\n",
        "data_folds = DatasetAutoFolds(ratings_file='/content/drive/MyDrive/ESAA/OB/Data/ml-latest-small/ratings_noh.csv', reader=reader)\n",
        "\n",
        "#전체 데이터를 학습 데이터로 생성함\n",
        "trainset = data_folds.build_full_trainset()"
      ],
      "metadata": {
        "id": "yNYDX6JT29TK"
      },
      "execution_count": 43,
      "outputs": []
    },
    {
      "cell_type": "code",
      "source": [
        "algo = SVD(n_epochs=20, n_factors=50, random_state=0)\n",
        "algo.fit(trainset)"
      ],
      "metadata": {
        "id": "aTKIs1cf3yGG",
        "colab": {
          "base_uri": "https://localhost:8080/"
        },
        "outputId": "798e2db0-8250-4cb1-8064-ab8b4b7ff8d5"
      },
      "execution_count": 44,
      "outputs": [
        {
          "output_type": "execute_result",
          "data": {
            "text/plain": [
              "<surprise.prediction_algorithms.matrix_factorization.SVD at 0x7f5fd2c65910>"
            ]
          },
          "metadata": {},
          "execution_count": 44
        }
      ]
    },
    {
      "cell_type": "code",
      "source": [
        "#영화에 대한 상세 속성 정보 DataFrame 로딩\n",
        "movies = pd.read_csv('/content/drive/MyDrive/ESAA/OB/Data/ml-latest-small/movies.csv')\n",
        "\n",
        "#userId=9의 movieId 데이터를 추출해 movieId=42 데이터가 있는지 확인\n",
        "movieIds = ratings[ratings['userId']==9]['movieId']\n",
        "\n",
        "if movieIds[movieIds==42].count() == 0:\n",
        "    print('사용자 아이디 9는 영화 아이디 42의 평점 없음')\n",
        "print(movies[movies['movieId']==42])"
      ],
      "metadata": {
        "id": "oMpYzRAZ33uA",
        "colab": {
          "base_uri": "https://localhost:8080/"
        },
        "outputId": "2967867a-0dc9-4f27-bf56-67b5c6fdcd2e"
      },
      "execution_count": 45,
      "outputs": [
        {
          "output_type": "stream",
          "name": "stdout",
          "text": [
            "사용자 아이디 9는 영화 아이디 42의 평점 없음\n",
            "    movieId                   title              genres\n",
            "38       42  Dead Presidents (1995)  Action|Crime|Drama\n"
          ]
        }
      ]
    },
    {
      "cell_type": "code",
      "source": [
        "uid = str(9)\n",
        "iid = str(42)\n",
        "\n",
        "pred = algo.predict(uid, iid, verbose=True)"
      ],
      "metadata": {
        "id": "ZRqGYa1T4igl",
        "colab": {
          "base_uri": "https://localhost:8080/"
        },
        "outputId": "0c796d09-631d-4765-ce29-572973fa80c8"
      },
      "execution_count": 46,
      "outputs": [
        {
          "output_type": "stream",
          "name": "stdout",
          "text": [
            "user: 9          item: 42         r_ui = None   est = 3.13   {'was_impossible': False}\n"
          ]
        }
      ]
    },
    {
      "cell_type": "code",
      "source": [
        "def get_unseen_surprise(ratings, movies, userId):\n",
        "    #입력값으로 들어온 userId에 해당하는 사용자가 평점을 매긴 모든 영화를 리스트로 생성\n",
        "    seen_movies = ratings[ratings['userId']==userId]['movieId'].tolist()\n",
        "\n",
        "    #모든 영화의 movieId를 리스트로 생성\n",
        "    total_movies = movies['movieId'].tolist()\n",
        "\n",
        "    #모든 영화의 movieId 중 이미 평점을 매긴 영화의 movieId를 제외한 후 리스트로 생성\n",
        "    unseen_movies = [movie for movie in total_movies if movie not in seen_movies]\n",
        "    print('평점 매긴 영화 수:', len(seen_movies), ' 추천 대상 영화 수:', len(unseen_movies), ' 전체 영화 수:', len(total_movies))\n",
        "\n",
        "unseen_movies = get_unseen_surprise(ratings, movies, 9)"
      ],
      "metadata": {
        "id": "4-Em-TCY4q4w",
        "colab": {
          "base_uri": "https://localhost:8080/"
        },
        "outputId": "695a390f-ebf3-4828-b7c6-5ddf24ea9ff5"
      },
      "execution_count": 47,
      "outputs": [
        {
          "output_type": "stream",
          "name": "stdout",
          "text": [
            "평점 매긴 영화 수: 46  추천 대상 영화 수: 9696  전체 영화 수: 9742\n"
          ]
        }
      ]
    },
    {
      "cell_type": "code",
      "source": [
        "def recomm_movie_by_surprise(algo, userId, unseen_movies, top_n=10):\n",
        "    #알고리즘 객체의 predict() 메소드를 평점이 없는 영화에 반복 수행한 후 결과를 list 객체로 저장\n",
        "    predictions = [ algo.predict(str(userId), str(movieId)) for movieId in unseen_movies ]\n",
        "\n",
        "    #predictions list 객체는 surprise의 Predictions 객체를 원소로 가지고 있음\n",
        "    #[Prediction(uid='9', iid='1', est=3.69), Prediction(uid='9', iid='2', est=2.98), ...]\n",
        "\n",
        "    #이를 est 값으로 정렬하기 위해서 아래의 sortkey_est 함수를 정의함\n",
        "    #sortkey_est 함수는 list 객체의 sort() 함수의 키 값으로 사용되어 정렬 수행\n",
        "    def sortkey_est(pred):\n",
        "        return pred.est\n",
        "    \n",
        "    #sortkey_est() 반환값의 내림 차순으로 정렬 수행하고 top_n개의 최상위 값 추출\n",
        "    predictions.sort(key=sortkey_est, reverse=True)\n",
        "    top_predictions = predictions[:top_n]\n",
        "\n",
        "    #top_n으로 추출된 영화의 정보 추출, 영화 아이디, 추천 예상 평점, 제목 추출\n",
        "    top_movie_ids = [ int(pred.iid) for pred in top_predictions ]\n",
        "    top_movie_rating = [ pred.est for pred in top_predictions ]\n",
        "    top_movie_titles = movies[movies.movieId.isin(top_movie_ids)]['title']\n",
        "\n",
        "    top_movie_preds = [ (id, title, rating) for id, title, rating in zip(top_movie_ids, top_movie_titles, top_movie_rating) ]\n",
        "\n",
        "    return top_movie_preds"
      ],
      "metadata": {
        "id": "YoHzgHR65Nl6"
      },
      "execution_count": 57,
      "outputs": []
    },
    {
      "cell_type": "code",
      "source": [
        "unseen_movies = get_unseen_surprise(ratings, movies, 9)\n",
        "top_movie_preds = recomm_movie_by_surprise(algo, 9, unseen_movies, top_n=10)\n",
        "\n",
        "print('##### Top-10 추천 영화 리스트 #####')\n",
        "for top_movie in top_movie_preds:\n",
        "    print(top_movie[1], ':', top_movie[2])"
      ],
      "metadata": {
        "id": "9VMEBIkDyfT8"
      },
      "execution_count": null,
      "outputs": []
    }
  ]
}