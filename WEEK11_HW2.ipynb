{
  "nbformat": 4,
  "nbformat_minor": 0,
  "metadata": {
    "colab": {
      "provenance": [],
      "authorship_tag": "ABX9TyNJNWq5ZsHNaTffT56jP1xy",
      "include_colab_link": true
    },
    "kernelspec": {
      "name": "python3",
      "display_name": "Python 3"
    },
    "language_info": {
      "name": "python"
    }
  },
  "cells": [
    {
      "cell_type": "markdown",
      "metadata": {
        "id": "view-in-github",
        "colab_type": "text"
      },
      "source": [
        "<a href=\"https://colab.research.google.com/github/kimhj010502/ESAA_OB/blob/main/WEEK11_HW2.ipynb\" target=\"_parent\"><img src=\"https://colab.research.google.com/assets/colab-badge.svg\" alt=\"Open In Colab\"/></a>"
      ]
    },
    {
      "cell_type": "markdown",
      "source": [
        "# <b> [파이썬 머신러닝 완벽 가이드] </b> <br>\n",
        "## Chapter 09 추천 시스템"
      ],
      "metadata": {
        "id": "u_ibBbylMNxV"
      }
    },
    {
      "cell_type": "markdown",
      "source": [
        "## 9.1 추천 시스템의 개요와 배경 <br>\n",
        "### 추천 시스템의 개요 <br>\n",
        "- 추천 시스템은 사용자 자신도 좋아하는지 몰랐던 취향을 시스템이 발견하고 그에 맞는 콘텐츠를 추천해주는 것임\n",
        "- 많은 데이터가 추천 시스템에 축적되면서 추천이 더욱 정확해지고 다양한 결과를 얻을 수 있는 좋은 선순환 시스템을 구축할 수 있게 됨\n",
        "<br><br>\n",
        "\n",
        "### 온라인 스토어의 필수 요소, 추천 시스템 <br>\n",
        "<img src='https://ifh.cc/g/KaazXY.jpg' border='0'>\n",
        "<br><br>\n",
        "\n",
        "### 추천 시스템의 유형 <br>\n",
        "- 추천 시스템은 크게 콘텐츠 기반 필터링 (Content based filtering) 방식과 협업 필터링 (Collaborative Filtering) 방식으로 나뉨\n",
        "- 협업 필터링 방식은 다시 최근접 이웃 (Nearest Neighbor) 협업 필터링과 잠재 요인 (Latent Factor) 협업 필터링으로 나뉨\n",
        "- 요즘에는 개인화 특성을 좀 더 강화하기 위해서 하이브리드 형식으로 콘텐츠 기반과 협업 기반을 적절히 결합해 사용하는 경우도 늘고 있음"
      ],
      "metadata": {
        "id": "11RmXW7yNGNz"
      }
    },
    {
      "cell_type": "markdown",
      "source": [
        "## 9.2 콘텐츠 기반 필터링 추천 시스템 <br>\n",
        "- 콘텐츠 기반 필터링 방식 (Content based filtering)은 사용자가 특정한 아이템을 매우 선호하는 경우, 그 아이템과 비슷한 콘텐츠를 가진 다른 아이템을 추천하는 방식임\n",
        "- 예를 들어 사용자가 특정 영화에 높은 평점을 줬다면 그 영화의 장르, 출연 배우, 감독, 영화 키워드 등의 콘텐츠와 유사한 다른 영화를 추천해주는 방식임\n",
        "<br><br>\n",
        "<img src='https://ifh.cc/g/1SKLRd.jpg' border='0'>"
      ],
      "metadata": {
        "id": "0J6mKK3YRt87"
      }
    },
    {
      "cell_type": "markdown",
      "source": [
        "## 9.3 최근접 이웃 협업 필터링 <br>\n",
        "- 협업 필터링 방식 (Collaborative Filtering) 방식은 친구들에게 물어보는 것과 유사한 방식으로, 사용자가 아이템에 매긴 평점 정보나 상품 구매 이력과 같은 사용자 행동 양식(User Behavior)만을 기반으로 추천을 수행하는 것임\n",
        "<br><br>\n",
        "- 협업 필터링의 주요 목표는 사용자-아이템 평점 매트릭스와 같은 축적된 사용자 행동 기반으로 사용자가 아직 평가하지 않은 아이템을 예측 평가(Predicted Rating)하는 것임\n",
        "<br><br>\n",
        "<img src='https://ifh.cc/g/qWxq6c.png' border='0'>\n",
        "<br><br>\n",
        "- 협업 필터링 기반의 추천 시스템은 최근접 이웃 방식과 잠재 요인 방식으로 나뉘며, 두 방식 모두 사용자-아이템 평점 행렬 데이터에만 의지해 추천을 수행함\n",
        "- 협업 필터링 알고리즘에 사용되는 사용자-아이템 평점 행렬에서 행(Row)은 개별 사용자, 열(Column)은 개별 아이템으로 구성되며, 사용자 아이디 행, 아이템 아이디 열 위치에 해당하는 값이 평점을 나타내는 형태가 되어야 함\n",
        "- 만약 데이터가 다음 그림의 왼쪽과 같이 레코드 레벨 형태인 사용자-아이템 평점 데이터라면 판다스의 `pivot_table()`과 같은 함수를 이용해 아래 그림의 오른쪽과 같은 형태인 사용자-아이템 평점 행렬 형태로 변경해야 함\n",
        "<br><br>\n",
        "<img src='https://ifh.cc/g/3Vbcy6.png' border='0'>\n",
        "<br><br>\n",
        "- 일반적으로 이러한 사용자-아이템 평점 행렬은 많은 아이템을 열로 가지는 다차원 행렬이며, 사용자가 아이템에 대한 평점을 매기는 경우가 많지 않기 때문에 희소 행렬 (Sparse Matrix) 특성을 가지고 있음\n",
        "<br><br>\n",
        "- 최근접 이웃 협업 필터링은 메모리(Memory) 협업 필터링이라고도 하며, 일반적으로 사용자 기반과 아이템 기반으로 다시 나뉠 수 있음\n",
        "    - `사용자 기반 (User-User)`: 당신과 비슷한 고객들이 다음 상품도 구매했습니다\n",
        "    - `아이템 기반 (Item-Item)`: 이 상품을 선택한 다른 고객들은 다음 상품도 구매했습니다\n",
        "<br><br>\n",
        "- <b>사용자 기반 최근접 이웃 방식</b>은 특정 사용자와 유사한 다른 사용자를 TOP-N으로 선정해 이 TOP-N 사용자가 좋아하는 아이템을 추천하는 방식임\n",
        "- 즉, 특정 사용자와 타 사용자 간의 유사도 (Similarity)를 측정한 뒤 가장 유사도가 높은 TOP-N 사용자를 추출해 그들이 선호하는 아이템을 추천하는 것임\n",
        "<br><br>\n",
        "<img src='https://ifh.cc/g/314Vam.png' border='0'>\n",
        "<br><br>\n",
        "- <b>아이템 기반 최근접 이웃 방식</b>은 아이템이 가지는 속성과는 상관없이 사용자들이 그 아이템을 좋아하는지/싫어하는지의 평가 척도가 유사한 아이템을 추천하는 기준이 되는 알고리즘임\n",
        "- 위의 사용자 기반 최근접 이웃 데이터 세트와 행과 열이 서로 반대임\n",
        "<br><br>\n",
        "<img src='https://ifh.cc/g/raPNwC.png' border='0'>\n",
        "<br><br>\n",
        "- 비슷한 영화를 좋아한다고 해서 사람들의 취향이 비슷하다고 판단하기는 어려운 경우가 많기 때문에 일반적으로 사용자 기반보다는 아이템 기반 협업 필터링이 정확도가 더 높음\n",
        "- 매우 유명한 영화는 취향과 관계없이 대부분의 사람이 관람하는 경우가 많고, 사용자들이 평점을 매긴 영화의 개수가 많지 않은 경우가 일반적인데 이를 기반으로 다른 사람과의 유사도를 비교하기 어려운 부분도 있음\n",
        "- 따라서 최근접 이웃 협업 필터링은 대부분 아이템 기반의 알고리즘을 사용함\n",
        "<br><br>\n",
        "- 유사도 측정 방법인 코사인 유사도는 추천 시스템의 유사도 측정에 가장 많이 적용됨\n",
        "- 추천 시스템에 사용되는 데이터는 피처 벡터화된 텍스트 데이터와 동일하게 다차원 희소 행렬이라는 특징이 있으므로 유사도 측정을 위해 주로 코사인 유사도를 이용함"
      ],
      "metadata": {
        "id": "LYHhMvJ0S5ki"
      }
    },
    {
      "cell_type": "markdown",
      "source": [
        "## 9.4 잠재 요인 협업 필터링 <br>\n",
        "### 잠재 요인 협업 필터링의 이해 <br>\n",
        "- 잠재 요인 협업 필터링은 사용자-아이템 평점 매트릭스 속에 숨어있는 잠재 요인을 추출해 추천 예측을 할 수 있게 하는 기법임\n",
        "- 대규모 다차원 행렬을 SVD와 같은 차원 감소 기법으로 분해하는 과정에서 잠재 요인을 추출하는데, 이러한 기법을 행렬 분해 (Matrix Factorization)이라고 함\n",
        "<br><br>\n",
        "- 잠재 요인을 기반으로 다차원 희소 행렬인 사용자-아이템 행렬 데이터를 저차원 밀집 행렬의 사용자-잠재 요인 행렬과 아이템-잠재 요인 행렬의 전치 행렬로 분해할 수 있으며, 이렇게 분해된 두 행렬의 내적을 통해 새로운 예측 사용자-아이템 평점 행렬 데이터를 만들어서 사용자가 아직 평점을 부여하지 않는 아이템에 대한 예측 평점을 생성하는 것이 잠재 요인 협력 필터링 알고리즘의 핵심임\n",
        "<br><br>\n",
        "<img src='https://ifh.cc/g/pjmSF1.jpg' border='0'>\n",
        "<br><br>\n",
        "- 행렬 분해에 의해 추출되는 '잠재 요인'이 정확히 어떤 것인지는 알 수 없지만, 가령 영화 평점 기반의 사용자-아이템 평점 행렬 데이터라면 영화가 가지는 장르별 특성 선호도로 가정할 수 있음\n",
        "- 즉, 사용자-잠재 요인 행렬은 사용자의 영화 장르에 대한 선호도로, 아이템-잠재 요인 행렬은 영화의 장르별 특성값으로 정의할 수 있음\n",
        "<br><br>\n",
        "- 사용자-아이템 평점 행렬 R에서 사용자(User)의 아이템(Item)에 대한 평점: R(u,i)\n",
        "    - u: 사용자 아이디\n",
        "    - i: 아이템 아이디\n",
        "- 사용자-잠재 요인 행렬 P에서 사용자의 영화 장르별 선호도 행렬: P(u,k)\n",
        "    - u: 사용자 아이디\n",
        "    - k: 잠재 요인 칼럼인 장르별 선호도\n",
        "- 아이템-잠재 요인 행렬 Q에서 영화의 장르별 요소 행렬: Q(i,k)\n",
        "    - i: 아이템 아이디\n",
        "    - k: 잠재 요인 칼럼인 장르별 요소\n",
        "<br><br>\n",
        "- 평점은 사용자의 특정 영화 장르에 대한 선호도와 개별 영화의 그 장르적 특성값을 반영해 결정되므로 사용자의 장르별 선호도 벡터와 영화의 장르별 특성 벡터를 서로 곱해서 만들 수 있음\n",
        "- 즉, User 1은 item 1의 평점인 R(1,1)의 4점은 P matrix의 User 1 벡터와 Q.T matrix의 Item 1 벡터를 곱한 값임\n",
        "<br><br>\n",
        "<img src='https://ifh.cc/g/qJA0kg.png' border='0'>\n",
        "<img src='https://ifh.cc/g/sCxpJj.png' border='0'>\n",
        "<br><br>\n",
        "\n",
        "### 행렬 분해의 이해\n",
        "- 행렬 분해는 다차원의 matrix를 저차원 matrix로 분해하는 기법으로서 대표적으로 SVD (Singular Vector Decomposition), NMF (Non-Negative Matrix Factorization) 등이 있음\n",
        "- Factorization은 우리말로 인수분해를 말함\n",
        "<br><br>\n",
        "- M개의 사용자(User) 행과 N개의 아이템(Item) 열을 가진 평점 행렬 R은 M x N 차원으로 구성되며, 행렬 분해를 통해서 사용자-K 차원 잠재 요인 행렬 P (P는 M x K 차원)와 K 차원 잠재 요인-아이템 행렬 Q.T (Q.T는 K x N 차원)로 분해될 수 있음\n",
        "<br><br>\n",
        "<img src='https://ifh.cc/g/qgMJyC.png' border='0'>\n",
        "<br><br>\n",
        "- R = P * Q.T\n",
        "    - M: 총 사용자 수\n",
        "    - N: 총 아이템 수\n",
        "    - K: 잠재 요인의 차원 수\n",
        "    - R: M x N 차원의 사용자-아이템 평점 행렬\n",
        "    - P: 사용자와 잠재 요인과의 관계 값을 가지는 M x K 차원의 사용자-잠재 요인 행렬\n",
        "    - Q: 아이템과 잠재 요인과의 관계 값을 가지는 N x K 차원의 아이템-잠재 요인 행렬\n",
        "    - Q.T: Q matrix의 행과 열 값을 교환한 전치 행렬\n",
        "- 행렬 내에 널 (NaN) 값을 많이 가지는 고차원의 희소 행렬인 R 행렬은 다음 그림과 같이 저차원의 밀집 행렬인 P 행렬과 Q 행렬로 분해될 수 있음\n",
        "<br><br>\n",
        "<img src='https://ifh.cc/g/1Narcs.png' border='0'>\n",
        "<br><br>\n",
        "- R 행렬의 u행 사용자와 i열 아이템 위치에 있는 평점 데이터: $ r_{(u,i)} = p_u * q_i^t $\n",
        "<br><br>\n",
        "<img src='https://ifh.cc/g/hcxN3n.png' border='0'>\n",
        "<img src='https://ifh.cc/g/7aTzlb.png' border='0'>\n",
        "<br><br>\n",
        "- 사용자-아이템 평점 행렬의 미정 값을 포함한 모든 평점 값은 행렬 분해를 통해 얻어진 P 행렬과 Q.T 행렬의 내적을 통해 예측 평점으로 다시 계산할 수 있음\n",
        "- $ R \\cong \\hat{R} = P * Q.T $\n",
        "<br><br>\n",
        "<img src='https://ifh.cc/g/wSNbcD.png' border='0'>\n",
        "<br><br>\n",
        "- 행렬 분해는 주로 SVD (Singular Value Decomposition) 방식을 이용하는데, SVD는 널 (NaN) 값이 없는 행렬에만 적용할 수 있음\n",
        "- R 행렬에는 아직 평점이 되지 않은 많은 널값이 있기 때문에 P와 Q 행렬을 일반적인 SVD 방식으로는 분해할 수 없음\n",
        "- 이러한 경우에는 확률적 경사 하강법 (Stochastic Gradient Descent, SGD)이나 ALS (Alternating Least Squares) 방식을 이용해 SVD를 수행함\n",
        "<br><br>\n",
        "\n",
        "### 확률적 경사 하강법을 이용한 행렬 분해 <br>\n",
        "- 확률적 경사 하강법은 P와 Q 행렬로 계산된 예측 R 행렬 값이 실제 R 행렬 값과 가장 최소의 오류를 가질 수 있도록 반복적인 비용 함수 최적화를 통해 P와 Q를 유추해내는 것임\n",
        "<br><br>\n",
        "1. P와 Q를 임의의 값을 가진 행렬로 설정함\n",
        "2. P와 Q.T 값을 곱해 예측 R 행렬을 계산하고 예측 R 행렬과 실제 R 행렬에 해당하는 오류 값을 계산함\n",
        "3. 이 오류 값을 최소화할 수 있도록 P와 Q 행렬을 적절한 값으로 각각 업데이트함\n",
        "4. 만족할 만한 오류 값을 가질 때까지 2, 3번 작업을 반복하면서 P와 Q값을 업데이트해 근사화함\n",
        "<br><br>\n",
        "- 실제 값과 예측값의 오류 최소화와 L2 규제를 고려한 비용 함수식:\n",
        "<img src='https://ifh.cc/g/JodrZ1.png' border='0'>\n",
        "<br><br>\n",
        "- 일반적으로 사용자-아이템 평점 행렬의 경우 행렬 분해를 위해서 단순히 예측 오류값의 최소화와 학습시 과적합을 피하기 위해서 규제를 반영한 비용 함수를 적용함\n",
        "- 위의 비용 함수를 최소화하기 위해서 새롭게 업데이트 되는 식:\n",
        "<img src='https://ifh.cc/g/t3ajdM.png' border='0'>\n",
        "\n",
        "    - $p_u$: P 행렬의 사용자 u행 벡터\n",
        "    - $q_i^t$: Q 행렬의 아이템 i행의 전치 벡터 (transpose vector)\n",
        "    - $r_{(u,i)}$: 실제 R 행렬의 u행, i열에 위치한 값\n",
        "    - $\\hat{r}_{(u,i)}$: 예측 $\\hat{R}$ 행렬의 u행, i열에 위치한 값으로 $p_u * q_i^t$로 계산함\n",
        "    - $e_{(u,i)}$: u행, i열에 위치한 실제 행렬 값과 예측 행렬 값의 차이 오류로 $r_{(u,i)}-\\hat{r}_{(u,i)}$로 계산함\n",
        "    - $η$: SGD 학습률\n",
        "    - $λ$: L2 규제 (Regularization) 계수"
      ],
      "metadata": {
        "id": "vaXccDURZf86"
      }
    },
    {
      "cell_type": "code",
      "execution_count": 10,
      "metadata": {
        "id": "LlPqju6PL4mn"
      },
      "outputs": [],
      "source": [
        "import numpy as np\n",
        "\n",
        "#원본 행렬 R 생성, 분해 행렬 P와 Q 초기화, 잠재 요인 차원 K는 3으로 설정\n",
        "R = np.array([[4, np.NaN, np.NaN, 2, np.NaN],\n",
        "              [np.NaN, 5, np.NaN, 3, 1],\n",
        "              [np.NaN, np.NaN, 3, 4, 4],\n",
        "              [5, 2, 1, 2, np.NaN]])\n",
        "num_users, num_items = R.shape\n",
        "K = 3\n",
        "\n",
        "#P와 Q 행렬의 크기를 지정하고 정규 분포를 가진 임의의 값으로 입력함\n",
        "np.random.seed(1)\n",
        "P = np.random.normal(scale=1./K, size=(num_users, K))\n",
        "Q = np.random.normal(scale=1./K, size=(num_items, K))"
      ]
    },
    {
      "cell_type": "code",
      "source": [
        "from sklearn.metrics import mean_squared_error\n",
        "\n",
        "def get_rmse(R, P, Q, non_zeros):\n",
        "    error = 0\n",
        "    #두 개의 분해된 행렬 P와 Q.T의 내적으로 예측 R 행렬 생성\n",
        "    full_pred_matrix = np.dot(P, Q.T)\n",
        "\n",
        "    #실제 R 행렬에서 널이 아닌 값의 위치 인덱스 추출해 실제 R 행렬과 예측 행렬의 RMSE 추출\n",
        "    x_non_zero_ind = [non_zero[0] for non_zero in non_zeros]\n",
        "    y_non_zero_ind = [non_zero[1] for non_zero in non_zeros]\n",
        "    R_non_zeros = R[x_non_zero_ind, y_non_zero_ind]\n",
        "    full_pred_matrix_non_zeros = full_pred_matrix[x_non_zero_ind, y_non_zero_ind]\n",
        "    mse = mean_squared_error(R_non_zeros, full_pred_matrix_non_zeros)\n",
        "    rmse = np.sqrt(mse)\n",
        "\n",
        "    return rmse"
      ],
      "metadata": {
        "id": "UNGczyj_rBOQ"
      },
      "execution_count": 11,
      "outputs": []
    },
    {
      "cell_type": "code",
      "source": [
        "#R > 0인 행 위치, 열 위치, 값을 non_zeros 리스트에 저장\n",
        "non_zeros = [(i, j, R[i,j]) for i in range(num_users) for j in range(num_items) if R[i,j] > 0]\n",
        "\n",
        "steps = 1000 #SGD를 반복해서 업데이터할 횟수\n",
        "learning_rate = 0.01 #학습률\n",
        "r_lambda = 0.01 #L2 Regularization 계수수\n",
        "\n",
        "#SGD 기법으로 P와 Q 매트릭스를 계속 업데이트\n",
        "for step in range(steps):\n",
        "    for i, j, r in non_zeros:\n",
        "        #실제 값과 예측 값의 차이인 오류 값 구함\n",
        "        eij = r - np.dot(P[i,:], Q[j,:].T)\n",
        "        #Regularization을 반영한 SGD 업데이트 공식 적용\n",
        "        P[i,:] = P[i,:] + learning_rate * (eij * Q[j,:] - r_lambda * P[i,:])\n",
        "        Q[j,:] = Q[j,:] + learning_rate * (eij * P[i,:] - r_lambda * Q[j,:])\n",
        "    rmse = get_rmse(R, P, Q, non_zeros)\n",
        "    if (step % 50) == 0:\n",
        "        print('### iteration step: ', step, ', rmse: ', rmse)"
      ],
      "metadata": {
        "colab": {
          "base_uri": "https://localhost:8080/"
        },
        "id": "lbkb80V0rkho",
        "outputId": "6330c3d4-b1b7-4424-ee25-9a54034e962d"
      },
      "execution_count": 12,
      "outputs": [
        {
          "output_type": "stream",
          "name": "stdout",
          "text": [
            "### iteration step:  0 , rmse:  3.2388050277987723\n",
            "### iteration step:  50 , rmse:  0.4876723101369648\n",
            "### iteration step:  100 , rmse:  0.1564340384819247\n",
            "### iteration step:  150 , rmse:  0.07455141311978046\n",
            "### iteration step:  200 , rmse:  0.04325226798579314\n",
            "### iteration step:  250 , rmse:  0.029248328780878973\n",
            "### iteration step:  300 , rmse:  0.022621116143829466\n",
            "### iteration step:  350 , rmse:  0.019493636196525135\n",
            "### iteration step:  400 , rmse:  0.018022719092132704\n",
            "### iteration step:  450 , rmse:  0.01731968595344266\n",
            "### iteration step:  500 , rmse:  0.016973657887570753\n",
            "### iteration step:  550 , rmse:  0.016796804595895633\n",
            "### iteration step:  600 , rmse:  0.01670132290188466\n",
            "### iteration step:  650 , rmse:  0.01664473691247669\n",
            "### iteration step:  700 , rmse:  0.016605910068210026\n",
            "### iteration step:  750 , rmse:  0.016574200475705\n",
            "### iteration step:  800 , rmse:  0.01654431582921597\n",
            "### iteration step:  850 , rmse:  0.01651375177473524\n",
            "### iteration step:  900 , rmse:  0.01648146573819501\n",
            "### iteration step:  950 , rmse:  0.016447171683479155\n"
          ]
        }
      ]
    },
    {
      "cell_type": "code",
      "source": [
        "pred_matrix = np.dot(P, Q.T)\n",
        "print('예측 행렬:\\n', np.round(pred_matrix, 3))"
      ],
      "metadata": {
        "colab": {
          "base_uri": "https://localhost:8080/"
        },
        "id": "O2mYJ_VxtMm7",
        "outputId": "86fbfb0c-3f0a-41e4-cf07-edee27ce5dfe"
      },
      "execution_count": 13,
      "outputs": [
        {
          "output_type": "stream",
          "name": "stdout",
          "text": [
            "예측 행렬:\n",
            " [[3.991 0.897 1.306 2.002 1.663]\n",
            " [6.696 4.978 0.979 2.981 1.003]\n",
            " [6.677 0.391 2.987 3.977 3.986]\n",
            " [4.968 2.005 1.006 2.017 1.14 ]]\n"
          ]
        }
      ]
    }
  ]
}