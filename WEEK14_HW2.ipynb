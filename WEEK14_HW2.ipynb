{
  "nbformat": 4,
  "nbformat_minor": 0,
  "metadata": {
    "colab": {
      "provenance": [],
      "authorship_tag": "ABX9TyN0QGSxLaRJN8fRM51rNyIR",
      "include_colab_link": true
    },
    "kernelspec": {
      "name": "python3",
      "display_name": "Python 3"
    },
    "language_info": {
      "name": "python"
    }
  },
  "cells": [
    {
      "cell_type": "markdown",
      "metadata": {
        "id": "view-in-github",
        "colab_type": "text"
      },
      "source": [
        "<a href=\"https://colab.research.google.com/github/kimhj010502/ESAA_OB/blob/main/WEEK14_HW2.ipynb\" target=\"_parent\"><img src=\"https://colab.research.google.com/assets/colab-badge.svg\" alt=\"Open In Colab\"/></a>"
      ]
    },
    {
      "cell_type": "markdown",
      "source": [
        "# <b> [파이썬 딥러닝 텐서플로] </b> <br>\n",
        "## Chapter 04 합성곱 신경망 (CNN)"
      ],
      "metadata": {
        "id": "knj99rnkzjOL"
      }
    },
    {
      "cell_type": "markdown",
      "source": [
        "## 4.1 합성곱 신경망 <br>\n",
        "- 합성곱 신경망 (CNN: Convolutional Neural Network)은 데이터가 가진 특징들의 패턴을 학습하는 알고리즘으로 컴퓨터 비전 분야에서 많이 사용됨\n",
        "- 대표적으로 이미지 분류 (Image Classification), 객체 탐지 (Object Detection), 스타일 전이 (Style Transfer) 등을 예로 들 수 있음\n",
        "<br><br>\n",
        "- 이미지 분류\n",
        "<br><a href='https://ifh.cc/v-MSzRhd' target='_blank'><img src='https://ifh.cc/g/MSzRhd.jpg' border='0'></a>\n",
        "- 모델이 이미지의 특징을 추출해 이미지를 인식할 수 있는 능력을 갖추게 됨\n",
        "<br><br>\n",
        "- 객체 탐지\n",
        "<br><a href='https://ifh.cc/v-BxPrkX' target='_blank'><img src='https://ifh.cc/g/BxPrkX.jpg' border='0'></a>\n",
        "- 이미지에서 특정한 객체를 인식하고 이미지의 어디에 있는지 위치가지 파악하는 기술로, 고양이 이미지의 위치에 표시된 노란색 실선을 경계 박스(bounding box)라고 부름\n",
        "- 일반적으로 객체의 위치는 이미지의 좌표 값으로 나타내기 때문에, 경계 박스를 찾는 문제는 회귀분석으로 해결하고 클래스를 예측하는 문제는 분류 문제가 됨\n",
        "<br><br>\n",
        "- 스타일 전이는 콘텐츠 이미지와 스타일 참조 이미지를 이용해 콘텐츠의 기본 형태를 유지하고 스타일을 입혀서 새로운 이미지를 생성하는 기술을 말함\n"
      ],
      "metadata": {
        "id": "bIRTJ8OYADQ-"
      }
    },
    {
      "cell_type": "markdown",
      "source": [
        "### 1-1 이미지 표현 <br>\n",
        "- 이미지(또는 영상)를 컴퓨터가 이해할 수 있게 하려면 숫자로 표현해야 함\n",
        "<br><a href='https://ifh.cc/v-BLPvA2' target='_blank'><img src='https://ifh.cc/g/BLPvA2.png' border='0'></a>\n",
        "- 왼쪽에 있는 손글씨 이미지는 오른쪽 그림과 같이 0~255 사이의 숫자로 각 픽셀의 화소 값을 나타내는 방식으로 표현할 수 있음\n",
        "- 숫자 0은 완전히 검은 색을 나타내고 숫자 255는 흰색을 나타내며, 그 중간에 있는 숫자들은 회색으로 표현됨\n",
        "<br><br>\n",
        "- 컬러 이미지는 R(빨강), G(초록), B(파랑) 채널로 구성된 3장의 이미지를 겹쳐서 표현함\n",
        "<br><a href='https://ifh.cc/v-oOf9zA' target='_blank'><img src='https://ifh.cc/g/oOf9zA.jpg' border='0'></a>\n",
        "- 각 채널 이미지는 채널이 1개인 흑백 이미지와 마찬가지로 0~255 사이의 숫자로 나타내며 숫자가 클수록 해당 색상을 더 강하게 표현함\n",
        "- 채널은 각각이 하나의 이미지로 구분되며, 컬러 이미지는 3개의 채널 이미지를 하나로 결합하여 표현하는 방식임\n",
        "\n"
      ],
      "metadata": {
        "id": "tvieppos8TTT"
      }
    },
    {
      "cell_type": "markdown",
      "source": [
        "### 1-2 합성곱 (Convolution) <br>\n",
        "- 합성곱 연산은 입력 이미지에 대하여 일반적으로 정방형 크기를 가지는 커널(kernel, 필터)을 사용하여, 입력 이미지에 대한 특성을 추출하는 방법을 말함\n",
        "- 합성곱 연산을 통해서 추출된 이미지를 특성맵(feature map)이라고 부르며 이렇게 추출된 특성맵을 딥러닝 모델 학습에 사용하면 훨씬 더 좋은 성능을 보임\n",
        "<br><br>\n",
        "- 이미지에 필터를 적용하는 합성곱 연산\n",
        "<br><a href='https://ifh.cc/v-yqVH51' target='_blank'><img src='https://ifh.cc/g/yqVH51.jpg' border='0'></a>\n",
        "- 입력 이미지의 크기는 (세로, 가로) 순서로 shape이 출력됨\n",
        "- 이러한 입력 이미지의 좌측 상단부터 커널과 같은 크기를 갖도록 입력 이미지의 일부분에 커널이 겹치도록 투영해 주고 이렇게 입력 이미지와 커널이 겹치는 부분에 대하여 합성곱 연산을 수행하게 됨\n",
        "- 합성곱 연산은 element-wise 곱셈 연산을 수행 후 모두 더한 값으로 단일 스칼라 값이 나옴\n",
        "- 이렇게 나온 결과는 추출된 이미지의 feature map의 좌측 상단 첫 번째 값이 됨\n",
        "<br><br>\n",
        "- 커널 사이즈가 3 x 3인 경우 총 9개의 가중치(weight)를 가지며 오차 역전파(back propagation) 시 커널의 가중치를 업데이트함\n",
        "- 합성곱 신경망이 이미지 특성 추출에 효율적인 이유는 바로 커널의 공유 가중치(shared weights) 때문임\n",
        "- 오차 역전파 시 커널의 그래디언트(gradient)를 계산할 때 9개에 대해서만 업데이트하면 되므로 완전 연결층을 사용할 때보다 연산량이 훨씬 적다는 장점이 있음\n"
      ],
      "metadata": {
        "id": "q6XzN4sX1iNT"
      }
    },
    {
      "cell_type": "markdown",
      "source": [
        "### 1-3 채널 (channel) <br>\n",
        "- 채널은 입력 이미지를 구성하는 2차원 배열의 개수를 나타냄\n",
        "- 흑백 이미지는 단일 채널, 즉 채널의 개수가 1개인 이미지이고 컬러 이미지의 경우 R, G, B 3개의 채널을 가지는 이미지이므로 Red, Green, Blue 채널 이미지 3장이 겹쳐서 컬러 이미지로 표현됨\n",
        "- 컬러 이미지는 3개의 채널을 가지므로 세로 5픽셀, 가로 5픽셀의 컬러 이미지를 shape으로 나타냈을 때는 (5, 5, 3)으로 표현됨\n",
        "<br><br>\n",
        "- 컬러 이미지와 같이 입력 이미지가 여러 개의 채널을 갖는 경우, 합성곱 연산을 수행할 때 특성맵의 생성 과정을 잘 살펴봐야 함\n",
        "- 우선 입력 이미지의 채널 개수만큼 커널이 생성되고, 각 채널마다 하나씩 커널을 적용하여 합성곱 연산을 수행함\n",
        "- 이 과정을 거치면 입력 이미지의 채널 개수만큼 합성곱 연산된 결과가 생성되고, element-wise 덧셈 연산으로 모두 더해주면 최종 특성맵이 생성됨\n",
        "<br><a href='https://ifh.cc/v-aFxGdw' target='_blank'><img src='https://ifh.cc/g/aFxGdw.jpg' border='0'></a>\n",
        "<br><br>\n",
        "- 만약 합성곱 레이어에 출력 필터의 개수를 20개로 설정했다면, 입력 이미지의 채널 개수 3개와 출력 필터의 개수 20개가 곱해져서 총 60개의 커널이 생성됨\n",
        "- 1개 커널의 사이즈를 3 x 3으로 설정했다면, (3 x 3 x 입력 채널 수 x 출력 필터 수) = 3 x 3 x 3개(R, G, B) x 20개(출력 필터 수) = 540개가 되므로 해당 층에서 업데이트할 가중치의 그래디언트는 540개가 됨\n",
        "- 여기에 bias가 추가로 계산되는데 20개의 출력 필터 개수만큼 추가되므로 총 560개의 파라미터가 업데이트될 파라미터의 개수가 됨\n"
      ],
      "metadata": {
        "id": "z09gGAFT3mnx"
      }
    },
    {
      "cell_type": "markdown",
      "source": [
        "### 1-4 스트라이드 (stride) <br>\n",
        "- 커널은 좌측 상단으로부터 입력 이미지를 기준으로 우측으로 이동하면서 합성곱 연산을 계속 수행하고 특성맵에 결과를 채워나가는데, 이때 이동하는 간격을 스트라이드 (stride)로 정의하며 주로 1 또는 2로 설정함\n",
        "<br><br>\n",
        "- 스트라이드를 1로 설정 시 커널은 우측으로 1픽셀씩 이동하게 되며, 커널이 입력 이미지의 우측 끝까지 이동했다면 아래 방향으로 1칸 좌측 첫 번째 픽셀로 이동하여 추출함\n",
        "- 스트라이드를 2로 설정하게 되면 2픽셀씩 건너뛰기 때문에 특성맵의 크기가 1/2로 줄어들게 됨\n",
        "<br><a href='https://ifh.cc/v-2xGPom' target='_blank'><img src='https://ifh.cc/g/2xGPom.jpg' border='0'></a>\n",
        "- 텐서플로 케라스에서 제공하는 Con2D 레이어의 `strides` 매개변수에 스트라이드를 지정할 수 있음"
      ],
      "metadata": {
        "id": "7ZrNqOOR5GfW"
      }
    },
    {
      "cell_type": "markdown",
      "source": [
        "### 1-5 패딩 (padding) <br>\n",
        "- 커널 크기가 3 x 3이고, 스트라이드에서 1로 설정하게 되는 경우에도 추출된 특성맵의 사이즈는 입력 이미지 대비 가로로 2픽셀, 세로로 2픽셀 줄어들게 됨\n",
        "- 하지만 추출된 특성맵의 크기가 입력 이미지 대비 줄어들지 않도록 패딩 (padding)을 설정할 수 있음\n",
        "<br><br>\n",
        "- 일반적으로 zero-padding을 사용하게 되며, 입력 이미지의 가장자리에 0으로 채워진 패딩 값으로 채운 후 추출하게 됨\n",
        "- 패딩을 적용한 후 합성곱 연산을 수행하게 되면 특성맵의 크기가 줄어들지 않음\n",
        "<br><a href='https://ifh.cc/v-KPQ3nY' target='_blank'><img src='https://ifh.cc/g/KPQ3nY.png' border='0'></a>\n",
        "- 텐서플로 케라스의 Conv2D 레이어에서 `padding = 'same'`으로 설정하면 zero-padding을 적용함 (기본값: `padding = 'valid'`)"
      ],
      "metadata": {
        "id": "Gy-yIPl750C-"
      }
    },
    {
      "cell_type": "markdown",
      "source": [
        "### 1-6 특성맵 (feature map) 사이즈 <br>\n",
        "- 패딩과 스트라이드를 적용하고, 입력 데이터와 필터의 크기가 주어졌을 때 출력 데이터의 크기를 구하는 식: \n",
        "- (Output Height, Output Width) = $(\\frac{Image \\space Height + 2P - Kernel \\space Height}{S} + 1, \\space \\frac{Image \\space Width + 2P - Kernel \\space Width}{S} + 1 ) $\n",
        "    - Image Height, Image Width: 입력 크기 (input size)\n",
        "    - Kernel Height, Kernel Width: 필터 크기 (kernel size)\n",
        "    - S: 스트라이드 (strides)\n",
        "    - P: 패딩 (padding)\n",
        "    - Output Height, Output Width: 출력 크기 (ouput size)"
      ],
      "metadata": {
        "id": "kt9Ds1JaCpSe"
      }
    },
    {
      "cell_type": "markdown",
      "source": [
        "### 1-7 풀링 (pooling) <br>\n",
        "- 풀링 (pooling) 레이어는 추출된 특성맵에 대해 다운 샘플링하여 이미지의 크기를 축소하는 레이어임\n",
        "- 풀링 레이어를 사용하면서 얻을 수 있는 이점으로는 이미지 축소를 통해 연산량을 감소한다는 점과 과대적합 (overfitting)을 방지함에 있음\n",
        "<br><br>\n",
        "- 풀링 레이어는 크게 최대 풀링 (max pooling)과 평균 풀링 (average pooling)으로 나뉘는데, 최대 풀링은 특징의 값이 큰 값이 다른 특징들을 대표한다는 개념으로 도입되었으며 생각보다 좋은 성능을 발휘하기 때문에 합성곱 신경망과 같이 주로 사용됨\n",
        "<br><a href='https://ifh.cc/v-tkmaVX' target='_blank'><img src='https://ifh.cc/g/tkmaVX.png' border='0'></a>\n",
        "- 최대 풀링 수행 시 커널의 크기가 2 x 2로 주어질 때 입력 이미지의 2 x 2 픽셀 중 최대값이 출력값으로 설정되고 평균 풀링을 수행하면 2 x 2 픽셀들의 평균 값이 출력값으로 나옴\n",
        "<br><br>\n",
        "- 풀링 레이어도 역시 스트라이드 값을 가지며 스트라이드를 2로 설정하면, 2칸씩 건너뛰면서 풀링을 수행함\n",
        "- 최대 풀링의 커널 크기를 2 x 2로 설정하고 스트라이드를 2로 설정 시 출력 이미지는 입력 이미지 대비 세로 1/2, 가로 1/2로 줄어들어 입력 이미지 대비 총 1/4 크기로 줄어듦"
      ],
      "metadata": {
        "id": "Id10mpUxDgcL"
      }
    },
    {
      "cell_type": "markdown",
      "source": [
        "## 4.2 간단한 모델 생성"
      ],
      "metadata": {
        "id": "rJE7KPGXb6Ex"
      }
    },
    {
      "cell_type": "markdown",
      "source": [
        "### 2-1 데이터 로드 및 전처리"
      ],
      "metadata": {
        "id": "wWM6xtk-cA9X"
      }
    },
    {
      "cell_type": "code",
      "source": [
        "#tensorflow 모듈 import \n",
        "import tensorflow as tf"
      ],
      "metadata": {
        "id": "jOZIXPw-1gQ9"
      },
      "execution_count": 1,
      "outputs": []
    },
    {
      "cell_type": "code",
      "source": [
        "#mnist 손글씨 이미지 데이터 로드\n",
        "mnist = tf.keras.datasets.mnist\n",
        "(x_train, y_train), (x_valid, y_valid) = mnist.load_data()\n",
        "\n",
        "print(x_train.shape, y_train.shape)\n",
        "print(x_valid.shape, y_valid.shape)"
      ],
      "metadata": {
        "colab": {
          "base_uri": "https://localhost:8080/"
        },
        "id": "PSQx742Wca8T",
        "outputId": "3a637b13-9221-4687-a704-b14297499db5"
      },
      "execution_count": 2,
      "outputs": [
        {
          "output_type": "stream",
          "name": "stdout",
          "text": [
            "Downloading data from https://storage.googleapis.com/tensorflow/tf-keras-datasets/mnist.npz\n",
            "11490434/11490434 [==============================] - 1s 0us/step\n",
            "(60000, 28, 28) (60000,)\n",
            "(10000, 28, 28) (10000,)\n"
          ]
        }
      ]
    },
    {
      "cell_type": "code",
      "source": [
        "#샘플 이미지 출력\n",
        "import matplotlib.pylab as plt\n",
        "\n",
        "def plot_image(data, idx):\n",
        "    plt.figure(figsize=(5,5))\n",
        "    plt.imshow(data[idx], cmap='gray')\n",
        "    plt.axis('off')\n",
        "    plt.show()\n",
        "\n",
        "plot_image(x_train, 0)"
      ],
      "metadata": {
        "colab": {
          "base_uri": "https://localhost:8080/",
          "height": 303
        },
        "id": "RxBFOcjKctGy",
        "outputId": "b3341eeb-c09f-4ae0-96a8-06519c27b834"
      },
      "execution_count": 3,
      "outputs": [
        {
          "output_type": "display_data",
          "data": {
            "text/plain": [
              "<Figure size 360x360 with 1 Axes>"
            ],
            "image/png": "[encoded data removed]"
          },
          "metadata": {
            "needs_background": "light"
          }
        }
      ]
    },
    {
      "cell_type": "code",
      "source": [
        "print(x_train.min(), x_train.max())\n",
        "print(x_valid.min(), x_valid.max())"
      ],
      "metadata": {
        "colab": {
          "base_uri": "https://localhost:8080/"
        },
        "id": "LcbixuQoc7dZ",
        "outputId": "7adc6446-beb8-4c18-c0b6-bfb6a3a3a164"
      },
      "execution_count": 4,
      "outputs": [
        {
          "output_type": "stream",
          "name": "stdout",
          "text": [
            "0 255\n",
            "0 255\n"
          ]
        }
      ]
    },
    {
      "cell_type": "code",
      "source": [
        "#정규화 (Normalization)\n",
        "x_train = x_train / 255.0\n",
        "x_valid = x_valid / 255.0\n",
        "\n",
        "print(x_train.min(), x_train.max())\n",
        "print(x_valid.min(), x_valid.max())"
      ],
      "metadata": {
        "colab": {
          "base_uri": "https://localhost:8080/"
        },
        "id": "IK4zOsTtdCoB",
        "outputId": "1efdf892-5b46-43c6-9932-71b66c5610df"
      },
      "execution_count": 5,
      "outputs": [
        {
          "output_type": "stream",
          "name": "stdout",
          "text": [
            "0.0 1.0\n",
            "0.0 1.0\n"
          ]
        }
      ]
    },
    {
      "cell_type": "markdown",
      "source": [
        "- mnist 데이터셋은 색상을 나타내는 채널이 1개인 모노 컬러 이미지로 구성됨\n",
        "- CNN 모델에 주입하기 위해서 색상을 나타내는 채널을 추가해줌"
      ],
      "metadata": {
        "id": "wlCFIvx1dOc7"
      }
    },
    {
      "cell_type": "code",
      "source": [
        "#채널 추가\n",
        "print(x_train.shape, x_valid.shape)\n",
        "\n",
        "x_train_in = x_train[..., tf.newaxis] #가장 마지막 축에 채널 추가 (첫번째 축: [tf.newaxis, ...], 두번째 축: [:,tf.newaxis,:,:])\n",
        "x_valid_in = x_valid[..., tf.newaxis] #(60000, 28, 28) -> (60000, 28, 28, 1)\n",
        "\n",
        "print(x_train_in.shape, x_valid_in.shape)"
      ],
      "metadata": {
        "colab": {
          "base_uri": "https://localhost:8080/"
        },
        "id": "uBqvOMJHdMMx",
        "outputId": "ebac82c7-f07f-4d35-856a-7920351f4485"
      },
      "execution_count": 6,
      "outputs": [
        {
          "output_type": "stream",
          "name": "stdout",
          "text": [
            "(60000, 28, 28) (10000, 28, 28)\n",
            "(60000, 28, 28, 1) (10000, 28, 28, 1)\n"
          ]
        }
      ]
    },
    {
      "cell_type": "markdown",
      "source": [
        "### 2-2 Sequential API로 모델 생성 및 학습 <br>\n",
        "- 최종 분류기로 Dense 레이어를 적용하기 위해, Flatten 층을 추가하여 1차원 배열로 펼쳐줌\n",
        "- 합성곱은 Conv2D 레이어를 사용하고 (3, 3) 크기의 서로 다른 32가지 종류의 커널을 적용함\n",
        "<br><a href='https://ifh.cc/v-k6B77v' target='_blank'><img src='https://ifh.cc/g/k6B77v.png' border='0'></a>\n",
        "- 풀링 레이어는 (2, 2) 크기로 최대 풀링 (max pooling)을 적용함\n",
        "- 최종 분류기는 정답 레이블이 0~9까지 10개의 값을 가지므로 노드 개수를 10으로 하고, 분류 클래스가 10개인 다중 분류 문제이므로 활성화 함수로 softmax를 적용함"
      ],
      "metadata": {
        "id": "DUQMopnad6oL"
      }
    },
    {
      "cell_type": "code",
      "source": [
        "#Sequential API를 사용해 샘플 모델 생성\n",
        "model = tf.keras.Sequential([\n",
        "    #Convolution 적용 (32 filters)\n",
        "    tf.keras.layers.Conv2D(32, (3,3), activation='relu', input_shape=(28,28,1), name='conv'),\n",
        "    #Max Pooling 적용\n",
        "    tf.keras.layers.MaxPooling2D((2,2), name='pool'),\n",
        "    #Classifier 출력층\n",
        "    tf.keras.layers.Flatten(),\n",
        "    tf.keras.layers.Dense(10, activation='softmax')\n",
        "])"
      ],
      "metadata": {
        "id": "Cmw3bv_qdVlY"
      },
      "execution_count": 7,
      "outputs": []
    },
    {
      "cell_type": "code",
      "source": [
        "#모델 컴파일\n",
        "model.compile(optimizer='adam', loss='sparse_categorical_crossentropy', metrics=['accuracy'])\n",
        "\n",
        "#모델 훈련\n",
        "history = model.fit(x_train_in, y_train, validation_data=(x_valid_in, y_valid), epochs=10)"
      ],
      "metadata": {
        "colab": {
          "base_uri": "https://localhost:8080/"
        },
        "id": "iI54b_4CdVic",
        "outputId": "1f6d75de-1b0d-4a72-f3c9-5c43fca289c0"
      },
      "execution_count": 8,
      "outputs": [
        {
          "output_type": "stream",
          "name": "stdout",
          "text": [
            "Epoch 1/10\n",
            "1875/1875 [==============================] - 51s 26ms/step - loss: 0.2148 - accuracy: 0.9397 - val_loss: 0.0863 - val_accuracy: 0.9743\n",
            "Epoch 2/10\n",
            "1875/1875 [==============================] - 33s 18ms/step - loss: 0.0810 - accuracy: 0.9769 - val_loss: 0.0653 - val_accuracy: 0.9785\n",
            "Epoch 3/10\n",
            "1875/1875 [==============================] - 34s 18ms/step - loss: 0.0613 - accuracy: 0.9824 - val_loss: 0.0610 - val_accuracy: 0.9795\n",
            "Epoch 4/10\n",
            "1875/1875 [==============================] - 35s 19ms/step - loss: 0.0507 - accuracy: 0.9850 - val_loss: 0.0551 - val_accuracy: 0.9826\n",
            "Epoch 5/10\n",
            "1875/1875 [==============================] - 34s 18ms/step - loss: 0.0425 - accuracy: 0.9871 - val_loss: 0.0516 - val_accuracy: 0.9841\n",
            "Epoch 6/10\n",
            "1875/1875 [==============================] - 35s 19ms/step - loss: 0.0366 - accuracy: 0.9890 - val_loss: 0.0530 - val_accuracy: 0.9839\n",
            "Epoch 7/10\n",
            "1875/1875 [==============================] - 42s 23ms/step - loss: 0.0316 - accuracy: 0.9904 - val_loss: 0.0575 - val_accuracy: 0.9829\n",
            "Epoch 8/10\n",
            "1875/1875 [==============================] - 46s 24ms/step - loss: 0.0265 - accuracy: 0.9921 - val_loss: 0.0584 - val_accuracy: 0.9831\n",
            "Epoch 9/10\n",
            "1875/1875 [==============================] - 44s 23ms/step - loss: 0.0227 - accuracy: 0.9930 - val_loss: 0.0574 - val_accuracy: 0.9834\n",
            "Epoch 10/10\n",
            "1875/1875 [==============================] - 48s 25ms/step - loss: 0.0191 - accuracy: 0.9939 - val_loss: 0.0667 - val_accuracy: 0.9817\n"
          ]
        }
      ]
    },
    {
      "cell_type": "code",
      "source": [
        "model.evaluate(x_valid_in, y_valid) #모델의 학습된 가중치를 사용하여 손실과 평가지표 계산"
      ],
      "metadata": {
        "colab": {
          "base_uri": "https://localhost:8080/"
        },
        "id": "wLt5-JdqdVgT",
        "outputId": "dd676e07-c7b4-4140-f3ed-23242f6d206c"
      },
      "execution_count": 9,
      "outputs": [
        {
          "output_type": "stream",
          "name": "stdout",
          "text": [
            "313/313 [==============================] - 4s 11ms/step - loss: 0.0667 - accuracy: 0.9817\n"
          ]
        },
        {
          "output_type": "execute_result",
          "data": {
            "text/plain": [
              "[0.06673669070005417, 0.9817000031471252]"
            ]
          },
          "metadata": {},
          "execution_count": 9
        }
      ]
    },
    {
      "cell_type": "code",
      "source": [
        "#모델의 예측 오차와 정확도를 그래프로 그리는 함수\n",
        "def plot_loss_acc(history, epoch):\n",
        "\n",
        "    loss, val_loss = history.history['loss'], history.history['val_loss']\n",
        "    acc, val_acc = history.history['accuracy'], history.history['val_accuracy']\n",
        "\n",
        "    fig, axes = plt.subplots(1, 2, figsize=(12,4))\n",
        "\n",
        "    axes[0].plot(range(1, epoch+1), loss, label='Training')\n",
        "    axes[0].plot(range(1, epoch+1), val_loss, label='Validation')\n",
        "    axes[0].legend(loc='best')\n",
        "    axes[0].set_title('Loss')\n",
        "\n",
        "    axes[1].plot(range(1, epoch+1), acc, label='Training')\n",
        "    axes[1].plot(range(1, epoch+1), val_acc, label='Validation')\n",
        "    axes[1].legend(loc='best')\n",
        "    axes[1].set_title('Accuracy')\n",
        "\n",
        "    plt.show()\n",
        "\n",
        "plot_loss_acc(history, 10)"
      ],
      "metadata": {
        "colab": {
          "base_uri": "https://localhost:8080/",
          "height": 281
        },
        "id": "pdWfY-HBdVeE",
        "outputId": "2f99a905-c663-46cd-fcae-dd2df8370ba3"
      },
      "execution_count": 10,
      "outputs": [
        {
          "output_type": "display_data",
          "data": {
            "text/plain": [
              "<Figure size 864x288 with 2 Axes>"
            ],
            "image/png": "[encoded data removed]"
          },
          "metadata": {
            "needs_background": "light"
          }
        }
      ]
    },
    {
      "cell_type": "markdown",
      "source": [
        "### 2-3 모델 구조 파악 <br>\n",
        "- 모델 인스턴스에 `summary()` 메소드를 적용해 주면, 모델의 구조를 요약해서 보여줌\n",
        "<br><br>\n",
        "- (28, 28, 1) 형태의 입력 텐서가 Conv2D를 거치면서 (26, 26, 32) 형태로 변환됨\n",
        "- (3, 3) 크기의 합성곱 필터를 사용하기 때문에 이미지 가로, 세로 크기가 2씩 줄어듦 (패딩을 적용하지 않음)\n",
        "- 서로 다른 32개의 필터를 적용했기 때문에 (26, 26) 크기의 특성맵이 32개 생성됨\n",
        "- 즉, (28, 28, 1) 이미지에 서로 다른 32개 커널을 적용해서 32가지 종류의 피처(특징)를 추출하는 것임\n",
        "<br><a href='https://ifh.cc/v-xpxtno' target='_blank'><img src='https://ifh.cc/g/xpxtno.png' border='0'></a>\n",
        "- (2, 2) 크기의 풀링 레이어를 적용했기 때문에 이미지 크기가 1/2로 줄어듦\n",
        "- 따라서, 풀링 레이어를 거치면 (13, 13, 32) 텐서로 변환되고, Flatten 층에서 3차원 텐서를 1차원 텐서로 펼치면 5408개 (13 x 13 x 32) 원소를 갖는 1차원 벡터가 됨\n",
        "- 이 벡터를 출력 노드 10개인 Dense 레이어로 보내면 최종 분류 값을 예측해 출력함"
      ],
      "metadata": {
        "id": "mHAdObtVgr2t"
      }
    },
    {
      "cell_type": "code",
      "source": [
        "#모델 구조\n",
        "model.summary()"
      ],
      "metadata": {
        "colab": {
          "base_uri": "https://localhost:8080/"
        },
        "id": "FQsJSiGTdVbo",
        "outputId": "9427897b-6def-4046-ac3f-e214934aa53b"
      },
      "execution_count": 11,
      "outputs": [
        {
          "output_type": "stream",
          "name": "stdout",
          "text": [
            "Model: \"sequential\"\n",
            "_________________________________________________________________\n",
            " Layer (type)                Output Shape              Param #   \n",
            "=================================================================\n",
            " conv (Conv2D)               (None, 26, 26, 32)        320       \n",
            "                                                                 \n",
            " pool (MaxPooling2D)         (None, 13, 13, 32)        0         \n",
            "                                                                 \n",
            " flatten (Flatten)           (None, 5408)              0         \n",
            "                                                                 \n",
            " dense (Dense)               (None, 10)                54090     \n",
            "                                                                 \n",
            "=================================================================\n",
            "Total params: 54,410\n",
            "Trainable params: 54,410\n",
            "Non-trainable params: 0\n",
            "_________________________________________________________________\n"
          ]
        }
      ]
    },
    {
      "cell_type": "markdown",
      "source": [
        "- 생성된 모델 인스턴스의 `input` 속성으로부터 입력 레이어의 텐서를 추출할 수 있음\n",
        "- 입력 텐서는 (None, 28, 28, 1) 형태인데, 가장 앞에 있는 축 (axis=0)의 None 값은 배치 크기가 들어오는 위치로서 배치 크기로 어떤 값이든 가능하다는 의미임"
      ],
      "metadata": {
        "id": "VTtgoN6ih2TR"
      }
    },
    {
      "cell_type": "code",
      "source": [
        "#입력 텐서 형태\n",
        "model.input"
      ],
      "metadata": {
        "colab": {
          "base_uri": "https://localhost:8080/"
        },
        "id": "f5ca4VzFdVZS",
        "outputId": "240e013e-7214-44dc-a3c9-f2cad5e1e622"
      },
      "execution_count": 12,
      "outputs": [
        {
          "output_type": "execute_result",
          "data": {
            "text/plain": [
              "<KerasTensor: shape=(None, 28, 28, 1) dtype=float32 (created by layer 'conv_input')>"
            ]
          },
          "metadata": {},
          "execution_count": 12
        }
      ]
    },
    {
      "cell_type": "markdown",
      "source": [
        "- 모델의 출력 텐서는 `output` 속성으로 선택할 수 있음\n",
        "- 10개의 노드를 갖는 1차원 벡터 형태임"
      ],
      "metadata": {
        "id": "FecOTR5DiG1N"
      }
    },
    {
      "cell_type": "code",
      "source": [
        "#출력 텐서 형태\n",
        "model.output"
      ],
      "metadata": {
        "colab": {
          "base_uri": "https://localhost:8080/"
        },
        "id": "Qnv9kblQdVW9",
        "outputId": "46717bf9-2613-4fe9-8b55-206c3c6297eb"
      },
      "execution_count": 13,
      "outputs": [
        {
          "output_type": "execute_result",
          "data": {
            "text/plain": [
              "<KerasTensor: shape=(None, 10) dtype=float32 (created by layer 'dense')>"
            ]
          },
          "metadata": {},
          "execution_count": 13
        }
      ]
    },
    {
      "cell_type": "markdown",
      "source": [
        "- 모델을 구성하는 레이어들을 추출하려면 `layers` 속성을 확인함\n",
        "- 파이썬 리스트 형태로 레이어 객체를 담아서 보여줌"
      ],
      "metadata": {
        "id": "7jXMaypBiQVf"
      }
    },
    {
      "cell_type": "code",
      "source": [
        "#레이어\n",
        "model.layers"
      ],
      "metadata": {
        "colab": {
          "base_uri": "https://localhost:8080/"
        },
        "id": "FmCKvlKIdVUf",
        "outputId": "c3f47417-06db-4ac0-881a-b2ce0be54b77"
      },
      "execution_count": 14,
      "outputs": [
        {
          "output_type": "execute_result",
          "data": {
            "text/plain": [
              "[<keras.layers.convolutional.conv2d.Conv2D at 0x7f7c07ca3f10>,\n",
              " <keras.layers.pooling.max_pooling2d.MaxPooling2D at 0x7f7c07cf48e0>,\n",
              " <keras.layers.reshaping.flatten.Flatten at 0x7f7c07ca3ee0>,\n",
              " <keras.layers.core.dense.Dense at 0x7f7c083d2eb0>]"
            ]
          },
          "metadata": {},
          "execution_count": 14
        }
      ]
    },
    {
      "cell_type": "code",
      "source": [
        "#첫 번째 레이어 선택\n",
        "model.layers[0]"
      ],
      "metadata": {
        "colab": {
          "base_uri": "https://localhost:8080/"
        },
        "id": "3OMVwahhdVSC",
        "outputId": "855065d2-00c3-40fe-acc4-216bd9df2ffc"
      },
      "execution_count": 15,
      "outputs": [
        {
          "output_type": "execute_result",
          "data": {
            "text/plain": [
              "<keras.layers.convolutional.conv2d.Conv2D at 0x7f7c07ca3f10>"
            ]
          },
          "metadata": {},
          "execution_count": 15
        }
      ]
    },
    {
      "cell_type": "code",
      "source": [
        "#첫 번째 레이어 입력\n",
        "model.layers[0].input"
      ],
      "metadata": {
        "colab": {
          "base_uri": "https://localhost:8080/"
        },
        "id": "PCAh9JA6ibT7",
        "outputId": "8d5874d1-2c01-422b-d0fe-3a55d1e863c0"
      },
      "execution_count": 16,
      "outputs": [
        {
          "output_type": "execute_result",
          "data": {
            "text/plain": [
              "<KerasTensor: shape=(None, 28, 28, 1) dtype=float32 (created by layer 'conv_input')>"
            ]
          },
          "metadata": {},
          "execution_count": 16
        }
      ]
    },
    {
      "cell_type": "code",
      "source": [
        "#첫 번째 레이어 출력\n",
        "model.layers[0].output"
      ],
      "metadata": {
        "colab": {
          "base_uri": "https://localhost:8080/"
        },
        "id": "ZxlayJovjKeL",
        "outputId": "fbc54c7b-a55c-456f-cd8d-b0dc6cb061fb"
      },
      "execution_count": 17,
      "outputs": [
        {
          "output_type": "execute_result",
          "data": {
            "text/plain": [
              "<KerasTensor: shape=(None, 26, 26, 32) dtype=float32 (created by layer 'conv')>"
            ]
          },
          "metadata": {},
          "execution_count": 17
        }
      ]
    },
    {
      "cell_type": "markdown",
      "source": [
        "- 각 레이어의 가중치 행렬을 `weights` 속성을 사용하여 추출할 수 있음\n",
        "- 코드의 실행 결과를 보면, 2개의 텐서플로 변수 행렬이 확인됨\n",
        "- 첫 번째 변수는 'conv/kernel:0'이라는 이름과 같이 커널(합성곱 필터) 행렬의 가중치를 나타냄\n",
        "- 두 번째 변수는 'conv/bias:0'이라는 이름과 같이 각 커널의 상수항(bias)을 나타냄"
      ],
      "metadata": {
        "id": "gLeEeIkYjRLa"
      }
    },
    {
      "cell_type": "code",
      "source": [
        "#첫 번째 레이어 가중치\n",
        "model.layers[0].weights"
      ],
      "metadata": {
        "colab": {
          "base_uri": "https://localhost:8080/"
        },
        "id": "V26RSZWdjOBa",
        "outputId": "b8f6e01d-6189-463e-aebf-02b7fcaf1abf"
      },
      "execution_count": 18,
      "outputs": [
        {
          "output_type": "execute_result",
          "data": {
            "text/plain": [
              "[<tf.Variable 'conv/kernel:0' shape=(3, 3, 1, 32) dtype=float32, numpy=\n",
              " array([[[[-0.284998  ,  0.3307021 , -0.17635344, -0.3360816 ,\n",
              "           -0.6965017 ,  0.13236518,  0.31444603,  0.02318181,\n",
              "            0.55372643,  0.19770826,  0.08676314, -0.1951233 ,\n",
              "           -0.2636788 ,  0.36165148, -0.07870151, -1.0379429 ,\n",
              "            0.28607914, -0.9081166 , -0.43543634, -0.661531  ,\n",
              "           -0.8643908 ,  0.06566277, -0.56843597,  0.2546126 ,\n",
              "            0.33600423, -1.1760468 ,  0.20885022,  0.2661602 ,\n",
              "            0.4036799 , -0.7411588 , -0.40226728, -0.66143256]],\n",
              " \n",
              "         [[-0.2366035 ,  0.13310106, -0.16629326, -0.6226929 ,\n",
              "            0.07597145,  0.36789963,  0.02133969, -0.43308622,\n",
              "            0.12533343,  0.11508692,  0.4967602 ,  0.34661454,\n",
              "            0.15787114, -0.36608103,  0.51387334, -0.9589742 ,\n",
              "            0.19374032, -0.52587056,  0.13426581, -0.3302487 ,\n",
              "            0.23303229, -0.25433338,  0.26882282, -0.22384478,\n",
              "            0.35604838, -0.83361316,  0.44117254,  0.54883593,\n",
              "            0.01844399,  0.09519111,  0.02931409, -0.03125968]],\n",
              " \n",
              "         [[-0.08218217, -0.18404919, -0.8646847 , -0.42389634,\n",
              "            0.35138416,  0.15547927,  0.1395158 ,  0.09930857,\n",
              "           -0.7764148 ,  0.03606926,  0.649279  ,  0.19157223,\n",
              "            0.0860355 , -0.7568533 ,  0.76418436, -1.0107168 ,\n",
              "           -0.76733637,  0.52840847,  0.29961324,  0.11723284,\n",
              "            0.34737045, -0.76243436,  0.23357458,  0.14710088,\n",
              "           -0.5348238 , -0.20908684, -0.02812904,  0.2702703 ,\n",
              "           -0.71360606,  0.274177  ,  0.06046044,  0.00614174]]],\n",
              " \n",
              " \n",
              "        [[[ 0.38457522,  0.09991504,  0.2785349 , -0.02285578,\n",
              "           -0.5798551 , -0.4792271 ,  0.10084262,  0.16236077,\n",
              "            0.55904603, -0.24131727, -0.25013798,  0.20774314,\n",
              "            0.34227976,  0.4910946 , -0.5302652 ,  0.45676687,\n",
              "            0.5469217 , -0.27990133,  0.2632473 , -0.09044897,\n",
              "           -0.74734163,  0.5244551 ,  0.23576322,  0.20112312,\n",
              "           -0.309439  , -0.6750874 ,  0.33799368,  0.49642572,\n",
              "            0.0836472 ,  0.14189775,  0.46633893,  0.13632712]],\n",
              " \n",
              "         [[ 0.37076172,  0.2243182 , -0.13907091, -0.06674203,\n",
              "            0.30269146,  0.14491197,  0.13477935,  0.22433731,\n",
              "           -0.21155792,  0.22654274,  0.27293238,  0.31032357,\n",
              "           -0.0932376 , -0.05901807,  0.36516124,  0.32455376,\n",
              "            0.06524706, -0.24906328,  0.14019181,  0.42051902,\n",
              "           -0.03696005,  0.37749702,  0.10141341, -0.60448813,\n",
              "            0.27572444,  0.1091183 , -0.00687787,  0.3605263 ,\n",
              "            0.47956803,  0.34815642,  0.22235267,  0.46949798]],\n",
              " \n",
              "         [[ 0.22759555, -0.00398044, -0.1999916 ,  0.18756203,\n",
              "            0.32018393,  0.3779266 ,  0.33057585,  0.2013151 ,\n",
              "           -0.7944566 , -0.21048895,  0.05201407, -0.42279467,\n",
              "            0.02841668, -0.50389415,  0.51520115, -0.38605747,\n",
              "           -0.65949917,  0.47753435, -0.333806  ,  0.3602335 ,\n",
              "            0.46105045, -0.50017625, -0.21941258,  0.23899968,\n",
              "            0.00510017,  0.6230261 , -0.9556024 , -0.36688584,\n",
              "            0.07628265,  0.05458439, -0.12238266,  0.11609384]]],\n",
              " \n",
              " \n",
              "        [[[-0.17334673, -0.422872  , -0.33329687,  0.48533252,\n",
              "           -0.22599006, -0.69661695, -0.4409377 ,  0.06468909,\n",
              "            0.36598533,  0.00174724, -0.95252705,  0.2079679 ,\n",
              "           -0.08242341,  0.22457083, -1.3160685 ,  0.580664  ,\n",
              "            0.36969697,  0.02567083,  0.14749545,  0.24478112,\n",
              "           -0.6320402 ,  0.11843713,  0.1212719 ,  0.34478623,\n",
              "           -0.32798788, -0.02312102, -0.8146235 , -0.90678865,\n",
              "           -0.5095005 ,  0.33211255, -0.10718367, -0.02774799]],\n",
              " \n",
              "         [[-0.43888983, -0.04399003, -0.56016135,  0.45444906,\n",
              "            0.27378464, -0.396875  , -0.4525953 , -0.05038767,\n",
              "           -0.6152118 ,  0.14622433, -0.88371426, -0.15033244,\n",
              "           -0.17933075,  0.50338435, -0.9454917 ,  0.6298539 ,\n",
              "            0.14426284, -0.3045288 , -0.42381966,  0.20022754,\n",
              "            0.12757958,  0.48047444, -0.0871566 , -0.4280921 ,\n",
              "            0.19121811,  0.51614326, -0.51390463, -0.8610978 ,\n",
              "            0.20462513, -0.06790304, -0.41100487,  0.12189783]],\n",
              " \n",
              "         [[ 0.03096598,  0.41906652, -0.17562939,  0.2572023 ,\n",
              "            0.05566993,  0.40796325,  0.22139636, -0.04664086,\n",
              "           -0.674092  ,  0.1378988 , -0.8809005 , -0.33598593,\n",
              "            0.15451352,  0.03860125, -0.84437627,  0.06260808,\n",
              "           -0.32806954,  0.20576268, -0.18570447, -0.5897208 ,\n",
              "            0.24687216,  0.00982047, -0.31061083,  0.37231427,\n",
              "            0.24262674,  0.38864785, -0.23936222, -0.80289537,\n",
              "            0.29350168, -0.43722913, -0.18728697, -0.6069755 ]]]],\n",
              "       dtype=float32)>,\n",
              " <tf.Variable 'conv/bias:0' shape=(32,) dtype=float32, numpy=\n",
              " array([-0.06960038, -0.3821164 ,  0.26588753, -0.10089095, -0.14175957,\n",
              "        -0.35323584, -0.3956939 , -0.2574513 , -0.09129833, -0.2051907 ,\n",
              "        -0.00335555, -0.29183725, -0.19338384, -0.31137365, -0.00417225,\n",
              "        -0.00957306, -0.13162562, -0.04438085, -0.05258455, -0.10754222,\n",
              "        -0.07698105, -0.10056109, -0.08432876, -0.14466137, -0.20715228,\n",
              "        -0.02497044,  0.00544932, -0.01051147, -0.34564108, -0.2455183 ,\n",
              "        -0.00248608, -0.0518467 ], dtype=float32)>]"
            ]
          },
          "metadata": {},
          "execution_count": 18
        }
      ]
    },
    {
      "cell_type": "markdown",
      "source": [
        "- 실행 결과에서 커널 가중치의 shape이 (3, 3, 1, 32)라는 것을 알 수 있음\n",
        "    - (3, 3): 필터의 크기\n",
        "    - (1): 입력층의 채널 개수\n",
        "    - (32): 출력층의 채널 개수\n",
        "- 따라서, layer[0] 커널의 학습(업데이트) 가능한 파라미터의 수는 3 x 3 x 1 x 32 = 288개가 됨\n",
        "- 상수항(bias) 가중치의 shape은 (32,)이고 이는 출력층의 개수를 말함\n",
        "- 따라서, layer[0]의 총 학습 가능한 파라미터 수는 커널과 상수항을 더해서 288 + 32 = 320개가 됨"
      ],
      "metadata": {
        "id": "T_OckvVNjwsJ"
      }
    },
    {
      "cell_type": "code",
      "source": [
        "#첫 번째 레이어 커널 가중치\n",
        "model.layers[0].kernel"
      ],
      "metadata": {
        "colab": {
          "base_uri": "https://localhost:8080/"
        },
        "id": "Leb3AVpMjltk",
        "outputId": "cddec923-6809-4588-f1b4-0d6346f598d0"
      },
      "execution_count": 19,
      "outputs": [
        {
          "output_type": "execute_result",
          "data": {
            "text/plain": [
              "<tf.Variable 'conv/kernel:0' shape=(3, 3, 1, 32) dtype=float32, numpy=\n",
              "array([[[[-0.284998  ,  0.3307021 , -0.17635344, -0.3360816 ,\n",
              "          -0.6965017 ,  0.13236518,  0.31444603,  0.02318181,\n",
              "           0.55372643,  0.19770826,  0.08676314, -0.1951233 ,\n",
              "          -0.2636788 ,  0.36165148, -0.07870151, -1.0379429 ,\n",
              "           0.28607914, -0.9081166 , -0.43543634, -0.661531  ,\n",
              "          -0.8643908 ,  0.06566277, -0.56843597,  0.2546126 ,\n",
              "           0.33600423, -1.1760468 ,  0.20885022,  0.2661602 ,\n",
              "           0.4036799 , -0.7411588 , -0.40226728, -0.66143256]],\n",
              "\n",
              "        [[-0.2366035 ,  0.13310106, -0.16629326, -0.6226929 ,\n",
              "           0.07597145,  0.36789963,  0.02133969, -0.43308622,\n",
              "           0.12533343,  0.11508692,  0.4967602 ,  0.34661454,\n",
              "           0.15787114, -0.36608103,  0.51387334, -0.9589742 ,\n",
              "           0.19374032, -0.52587056,  0.13426581, -0.3302487 ,\n",
              "           0.23303229, -0.25433338,  0.26882282, -0.22384478,\n",
              "           0.35604838, -0.83361316,  0.44117254,  0.54883593,\n",
              "           0.01844399,  0.09519111,  0.02931409, -0.03125968]],\n",
              "\n",
              "        [[-0.08218217, -0.18404919, -0.8646847 , -0.42389634,\n",
              "           0.35138416,  0.15547927,  0.1395158 ,  0.09930857,\n",
              "          -0.7764148 ,  0.03606926,  0.649279  ,  0.19157223,\n",
              "           0.0860355 , -0.7568533 ,  0.76418436, -1.0107168 ,\n",
              "          -0.76733637,  0.52840847,  0.29961324,  0.11723284,\n",
              "           0.34737045, -0.76243436,  0.23357458,  0.14710088,\n",
              "          -0.5348238 , -0.20908684, -0.02812904,  0.2702703 ,\n",
              "          -0.71360606,  0.274177  ,  0.06046044,  0.00614174]]],\n",
              "\n",
              "\n",
              "       [[[ 0.38457522,  0.09991504,  0.2785349 , -0.02285578,\n",
              "          -0.5798551 , -0.4792271 ,  0.10084262,  0.16236077,\n",
              "           0.55904603, -0.24131727, -0.25013798,  0.20774314,\n",
              "           0.34227976,  0.4910946 , -0.5302652 ,  0.45676687,\n",
              "           0.5469217 , -0.27990133,  0.2632473 , -0.09044897,\n",
              "          -0.74734163,  0.5244551 ,  0.23576322,  0.20112312,\n",
              "          -0.309439  , -0.6750874 ,  0.33799368,  0.49642572,\n",
              "           0.0836472 ,  0.14189775,  0.46633893,  0.13632712]],\n",
              "\n",
              "        [[ 0.37076172,  0.2243182 , -0.13907091, -0.06674203,\n",
              "           0.30269146,  0.14491197,  0.13477935,  0.22433731,\n",
              "          -0.21155792,  0.22654274,  0.27293238,  0.31032357,\n",
              "          -0.0932376 , -0.05901807,  0.36516124,  0.32455376,\n",
              "           0.06524706, -0.24906328,  0.14019181,  0.42051902,\n",
              "          -0.03696005,  0.37749702,  0.10141341, -0.60448813,\n",
              "           0.27572444,  0.1091183 , -0.00687787,  0.3605263 ,\n",
              "           0.47956803,  0.34815642,  0.22235267,  0.46949798]],\n",
              "\n",
              "        [[ 0.22759555, -0.00398044, -0.1999916 ,  0.18756203,\n",
              "           0.32018393,  0.3779266 ,  0.33057585,  0.2013151 ,\n",
              "          -0.7944566 , -0.21048895,  0.05201407, -0.42279467,\n",
              "           0.02841668, -0.50389415,  0.51520115, -0.38605747,\n",
              "          -0.65949917,  0.47753435, -0.333806  ,  0.3602335 ,\n",
              "           0.46105045, -0.50017625, -0.21941258,  0.23899968,\n",
              "           0.00510017,  0.6230261 , -0.9556024 , -0.36688584,\n",
              "           0.07628265,  0.05458439, -0.12238266,  0.11609384]]],\n",
              "\n",
              "\n",
              "       [[[-0.17334673, -0.422872  , -0.33329687,  0.48533252,\n",
              "          -0.22599006, -0.69661695, -0.4409377 ,  0.06468909,\n",
              "           0.36598533,  0.00174724, -0.95252705,  0.2079679 ,\n",
              "          -0.08242341,  0.22457083, -1.3160685 ,  0.580664  ,\n",
              "           0.36969697,  0.02567083,  0.14749545,  0.24478112,\n",
              "          -0.6320402 ,  0.11843713,  0.1212719 ,  0.34478623,\n",
              "          -0.32798788, -0.02312102, -0.8146235 , -0.90678865,\n",
              "          -0.5095005 ,  0.33211255, -0.10718367, -0.02774799]],\n",
              "\n",
              "        [[-0.43888983, -0.04399003, -0.56016135,  0.45444906,\n",
              "           0.27378464, -0.396875  , -0.4525953 , -0.05038767,\n",
              "          -0.6152118 ,  0.14622433, -0.88371426, -0.15033244,\n",
              "          -0.17933075,  0.50338435, -0.9454917 ,  0.6298539 ,\n",
              "           0.14426284, -0.3045288 , -0.42381966,  0.20022754,\n",
              "           0.12757958,  0.48047444, -0.0871566 , -0.4280921 ,\n",
              "           0.19121811,  0.51614326, -0.51390463, -0.8610978 ,\n",
              "           0.20462513, -0.06790304, -0.41100487,  0.12189783]],\n",
              "\n",
              "        [[ 0.03096598,  0.41906652, -0.17562939,  0.2572023 ,\n",
              "           0.05566993,  0.40796325,  0.22139636, -0.04664086,\n",
              "          -0.674092  ,  0.1378988 , -0.8809005 , -0.33598593,\n",
              "           0.15451352,  0.03860125, -0.84437627,  0.06260808,\n",
              "          -0.32806954,  0.20576268, -0.18570447, -0.5897208 ,\n",
              "           0.24687216,  0.00982047, -0.31061083,  0.37231427,\n",
              "           0.24262674,  0.38864785, -0.23936222, -0.80289537,\n",
              "           0.29350168, -0.43722913, -0.18728697, -0.6069755 ]]]],\n",
              "      dtype=float32)>"
            ]
          },
          "metadata": {},
          "execution_count": 19
        }
      ]
    },
    {
      "cell_type": "code",
      "source": [
        "#첫 번째 레이어 bias 가중치\n",
        "model.layers[0].bias"
      ],
      "metadata": {
        "colab": {
          "base_uri": "https://localhost:8080/"
        },
        "id": "hGTASh8AkKg0",
        "outputId": "cd17115d-06eb-4988-8b58-fdaff58937f4"
      },
      "execution_count": 20,
      "outputs": [
        {
          "output_type": "execute_result",
          "data": {
            "text/plain": [
              "<tf.Variable 'conv/bias:0' shape=(32,) dtype=float32, numpy=\n",
              "array([-0.06960038, -0.3821164 ,  0.26588753, -0.10089095, -0.14175957,\n",
              "       -0.35323584, -0.3956939 , -0.2574513 , -0.09129833, -0.2051907 ,\n",
              "       -0.00335555, -0.29183725, -0.19338384, -0.31137365, -0.00417225,\n",
              "       -0.00957306, -0.13162562, -0.04438085, -0.05258455, -0.10754222,\n",
              "       -0.07698105, -0.10056109, -0.08432876, -0.14466137, -0.20715228,\n",
              "       -0.02497044,  0.00544932, -0.01051147, -0.34564108, -0.2455183 ,\n",
              "       -0.00248608, -0.0518467 ], dtype=float32)>"
            ]
          },
          "metadata": {},
          "execution_count": 20
        }
      ]
    },
    {
      "cell_type": "code",
      "source": [
        "#레이어 이름(name) 사용하여 레이어 선택\n",
        "model.get_layer('conv')"
      ],
      "metadata": {
        "colab": {
          "base_uri": "https://localhost:8080/"
        },
        "id": "ACdnM892kSGr",
        "outputId": "198ea9ba-50f0-4acd-d6a7-c9cc143734fd"
      },
      "execution_count": 21,
      "outputs": [
        {
          "output_type": "execute_result",
          "data": {
            "text/plain": [
              "<keras.layers.convolutional.conv2d.Conv2D at 0x7f7c07ca3f10>"
            ]
          },
          "metadata": {},
          "execution_count": 21
        }
      ]
    },
    {
      "cell_type": "code",
      "source": [
        "#샘플 이미지의 레이어별 출력을 리스트에 추가 (첫 번째, 두 번째 레이어)\n",
        "activator = tf.keras.Model(inputs = model.input,\n",
        "                           outputs = [layer.output for layer in model.layers[:2]])\n",
        "activations = activator.predict(x_train_in[0][tf.newaxis, ...])\n",
        "\n",
        "len(activations)"
      ],
      "metadata": {
        "colab": {
          "base_uri": "https://localhost:8080/"
        },
        "id": "V-plsprDkZU8",
        "outputId": "8fcf66b0-120c-4e49-e853-455de33a3ce5"
      },
      "execution_count": 22,
      "outputs": [
        {
          "output_type": "stream",
          "name": "stdout",
          "text": [
            "1/1 [==============================] - 0s 193ms/step\n"
          ]
        },
        {
          "output_type": "execute_result",
          "data": {
            "text/plain": [
              "2"
            ]
          },
          "metadata": {},
          "execution_count": 22
        }
      ]
    },
    {
      "cell_type": "code",
      "source": [
        "#첫 번째 레이어 출력층\n",
        "conv_activation = activations[0]\n",
        "conv_activation.shape #1: 입력 이미지 개수 (샘플이 1개)"
      ],
      "metadata": {
        "colab": {
          "base_uri": "https://localhost:8080/"
        },
        "id": "83sUB3LJkwLF",
        "outputId": "37900925-90de-4440-8318-4b01d3f259f3"
      },
      "execution_count": 23,
      "outputs": [
        {
          "output_type": "execute_result",
          "data": {
            "text/plain": [
              "(1, 26, 26, 32)"
            ]
          },
          "metadata": {},
          "execution_count": 23
        }
      ]
    },
    {
      "cell_type": "markdown",
      "source": [
        "- 첫 번째 레이어에서 출력되는 특성맵 이미지를 32개 커널별로 구분하여 시각화함\n",
        "- 출력 이미지의 특징이 조금씩 차이가 있으며, 각 커널은 입력 이미지로부터 서로 다른 피처(특징)을 추출하는 역할을 함"
      ],
      "metadata": {
        "id": "ZS1n7Y6Zk-kp"
      }
    },
    {
      "cell_type": "code",
      "source": [
        "#Convolution 시각화\n",
        "fig, axes = plt.subplots(4, 8)\n",
        "fig.set_size_inches(10,5)\n",
        "\n",
        "for i in range(32):\n",
        "    axes[i//8, i%8].matshow(conv_activation[0,:,:,1], cmap='viridis')\n",
        "    axes[i//8, i%8].set_title('kernel %s'%str(i), fontsize=10)\n",
        "    plt.setp(axes[i//8, i%8].get_xticklabels(), visible=False)\n",
        "    plt.setp(axes[i//8, i%8].get_yticklabels(), visible=False)\n",
        "\n",
        "plt.tight_layout()\n",
        "plt.show()    "
      ],
      "metadata": {
        "colab": {
          "base_uri": "https://localhost:8080/",
          "height": 369
        },
        "id": "U73E_77Rk0v0",
        "outputId": "37bdb23a-444a-468f-847b-d8051cdc8076"
      },
      "execution_count": 24,
      "outputs": [
        {
          "output_type": "display_data",
          "data": {
            "text/plain": [
              "<Figure size 720x360 with 32 Axes>"
            ],
            "image/png": "[encoded data removed]"
          },
          "metadata": {}
        }
      ]
    },
    {
      "cell_type": "code",
      "source": [
        "#두 번째 레이어 (pool) 출력층\n",
        "pooling_activation = activations[1]\n",
        "print(pooling_activation.shape)"
      ],
      "metadata": {
        "colab": {
          "base_uri": "https://localhost:8080/"
        },
        "id": "mBQ5KVjCliab",
        "outputId": "eec6aa90-0623-4abd-f531-a68431452cb2"
      },
      "execution_count": 25,
      "outputs": [
        {
          "output_type": "stream",
          "name": "stdout",
          "text": [
            "(1, 13, 13, 32)\n"
          ]
        }
      ]
    },
    {
      "cell_type": "markdown",
      "source": [
        "- 앞서 Conv2D 출력 이미지에 비하여 화소 크기가 굵어짐\n",
        "- 최대 풀링은 인근 픽셀들을 모아서 최대값으로 고정하기 때문에 픽셀 수는 줄이면서 특징을 더욱 강하게 드러낼 수 있음"
      ],
      "metadata": {
        "id": "SK1cYmtZl4sg"
      }
    },
    {
      "cell_type": "code",
      "source": [
        "#Pooling 시각화\n",
        "fig, axes = plt.subplots(4, 8)\n",
        "fig.set_size_inches(10,5)\n",
        "\n",
        "for i in range(32):\n",
        "    axes[i//8, i%8].matshow(pooling_activation[0,:,:,1], cmap='viridis')\n",
        "    axes[i//8, i%8].set_title('kernel %s'%str(i), fontsize=10)\n",
        "    plt.setp(axes[i//8, i%8].get_xticklabels(), visible=False)\n",
        "    plt.setp(axes[i//8, i%8].get_yticklabels(), visible=False)\n",
        "\n",
        "plt.tight_layout()\n",
        "plt.show()    "
      ],
      "metadata": {
        "colab": {
          "base_uri": "https://localhost:8080/",
          "height": 369
        },
        "id": "c4aCnfBRlxIT",
        "outputId": "01405a89-38bd-4c71-c385-87aba5a4d76b"
      },
      "execution_count": 26,
      "outputs": [
        {
          "output_type": "display_data",
          "data": {
            "text/plain": [
              "<Figure size 720x360 with 32 Axes>"
            ],
            "image/png": "[encoded data removed]"
          },
          "metadata": {}
        }
      ]
    },
    {
      "cell_type": "markdown",
      "source": [
        "## 4.3 복잡한 모델 생성 <br>\n",
        "- 텐서플로 케라스의 Functional API를 사용하면, Sequential API로 구현할 수 없는 복잡한 구조의 모델을 정의할 수 있음\n",
        "- 예를 들어, 각 레이어를 기준으로 입력이 2개 이상이거나 출력이 2개 이상인 모델을 만들 수 있고, 중간에 있는 레이어들을 건너뛰고 뒤쪽에 있는 레이어로 출력 텐서를 전달하는 방식으로 직접 연결하는 방법도 가능함"
      ],
      "metadata": {
        "id": "sjALlz6i22dE"
      }
    },
    {
      "cell_type": "markdown",
      "source": [
        "### 3-1 데이터셋 준비"
      ],
      "metadata": {
        "id": "V6huQOhp22dH"
      }
    },
    {
      "cell_type": "code",
      "source": [
        "import tensorflow as tf\n",
        "import numpy as np"
      ],
      "metadata": {
        "id": "KhHix0VF3JNJ"
      },
      "execution_count": 27,
      "outputs": []
    },
    {
      "cell_type": "code",
      "source": [
        "#mnist 손글씨 이미지 데이터 로드\n",
        "mnist = tf.keras.datasets.mnist\n",
        "(x_train, y_train), (x_valid, y_valid) = mnist.load_data()\n",
        "\n",
        "print(x_train.shape, y_train.shape)\n",
        "print(x_valid.shape, y_valid.shape)"
      ],
      "metadata": {
        "colab": {
          "base_uri": "https://localhost:8080/"
        },
        "outputId": "50882c68-ee91-4b56-a633-1663ba3ed0b9",
        "id": "WwTYhoQz3QOC"
      },
      "execution_count": 28,
      "outputs": [
        {
          "output_type": "stream",
          "name": "stdout",
          "text": [
            "(60000, 28, 28) (60000,)\n",
            "(10000, 28, 28) (10000,)\n"
          ]
        }
      ]
    },
    {
      "cell_type": "markdown",
      "source": [
        "- 원본 mnist 데이터셋은 0~9까지 숫자를 손글씨로 쓴 이미지(x)와 정답(y) 숫자로 구성되어 있음\n",
        "- 0~9까지 숫자를 맞추는 정답 외에 홀수인지 짝수인지를 판단하는 정답(y_odd)을 새로 만들어서 추가함\n",
        "- y_train 값이 홀수면 1, 짝수면 0으로 하는 y_train_odd 배열을 새로 만듦\n",
        "<br><a href='https://ifh.cc/v-kCTcQD' target='_blank'><img src='https://ifh.cc/g/kCTcQD.png' border='0'></a>"
      ],
      "metadata": {
        "id": "BG7Pj7Yu3VPa"
      }
    },
    {
      "cell_type": "code",
      "source": [
        "#새로운 출력 값 배열 생성 (홀수: 1, 짝수: 0)\n",
        "y_train_odd = []\n",
        "for y in y_train:\n",
        "    if y % 2 == 0:\n",
        "        y_train_odd.append(0)\n",
        "    else:\n",
        "        y_train_odd.append(1)\n",
        "\n",
        "y_train_odd = np.array(y_train_odd)\n",
        "y_train_odd.shape"
      ],
      "metadata": {
        "colab": {
          "base_uri": "https://localhost:8080/"
        },
        "id": "smDe2TEI3Sco",
        "outputId": "8235089b-1025-4d76-ca73-9b96bf590510"
      },
      "execution_count": 29,
      "outputs": [
        {
          "output_type": "execute_result",
          "data": {
            "text/plain": [
              "(60000,)"
            ]
          },
          "metadata": {},
          "execution_count": 29
        }
      ]
    },
    {
      "cell_type": "code",
      "source": [
        "print(y_train[:10])\n",
        "print(y_train_odd[:10])"
      ],
      "metadata": {
        "colab": {
          "base_uri": "https://localhost:8080/"
        },
        "id": "HB3Epf9R32mg",
        "outputId": "452b3a82-ceec-4722-a16f-78fc6922cca2"
      },
      "execution_count": 30,
      "outputs": [
        {
          "output_type": "stream",
          "name": "stdout",
          "text": [
            "[5 0 4 1 9 2 1 3 1 4]\n",
            "[1 0 0 1 1 0 1 1 1 0]\n"
          ]
        }
      ]
    },
    {
      "cell_type": "code",
      "source": [
        "#Validation 데이터셋 처리\n",
        "y_valid_odd = []\n",
        "for y in y_valid:\n",
        "    if y % 2 == 0:\n",
        "        y_valid_odd.append(0)\n",
        "    else:\n",
        "        y_valid_odd.append(1)\n",
        "\n",
        "y_valid_odd = np.array(y_valid_odd)\n",
        "y_valid_odd.shape"
      ],
      "metadata": {
        "colab": {
          "base_uri": "https://localhost:8080/"
        },
        "id": "OcgjxUXu36HO",
        "outputId": "65871c78-7be7-461b-9786-549b5b9ff010"
      },
      "execution_count": 31,
      "outputs": [
        {
          "output_type": "execute_result",
          "data": {
            "text/plain": [
              "(10000,)"
            ]
          },
          "metadata": {},
          "execution_count": 31
        }
      ]
    },
    {
      "cell_type": "markdown",
      "source": [
        "- 입력 이미지 데이터를 255로 나눠서 정규화함\n",
        "- 색상이 하나인 모노 컬러 이미지이므로, 새로운 축을 추가하고 채널 개수를 1개로 설정함\n",
        "- 텐서플로 `expand_dims()` 함수에 원본 배열을 입력하고 새롭게 추가하려는 축의 인덱스를 지정하면 해당 인덱스에 새로운 축이 추가됨\n",
        "- 축의 인덱스를 -1로 지정하면 새로운 축은 끝에 추가되어 (60000, 28, 28) 배열이 (60000, 28, 28, 1) 배열이 됨"
      ],
      "metadata": {
        "id": "q01YjZ4c4B1d"
      }
    },
    {
      "cell_type": "code",
      "source": [
        "#정규화 (Normalization)\n",
        "x_train = x_train / 255.0\n",
        "x_valid = x_valid / 255.0\n",
        "\n",
        "#채널 추가\n",
        "x_train_in = tf.expand_dims(x_train, -1)\n",
        "x_valid_in = tf.expand_dims(x_valid, -1)\n",
        "\n",
        "print(x_train_in.shape, x_valid_in.shape)"
      ],
      "metadata": {
        "colab": {
          "base_uri": "https://localhost:8080/"
        },
        "id": "eNymR0Mb4BUh",
        "outputId": "20854756-8442-4818-b5de-0841b791a59b"
      },
      "execution_count": 32,
      "outputs": [
        {
          "output_type": "stream",
          "name": "stdout",
          "text": [
            "(60000, 28, 28, 1) (10000, 28, 28, 1)\n"
          ]
        }
      ]
    },
    {
      "cell_type": "markdown",
      "source": [
        "### 3-2 Functional API로 다중 입력, 다중 출력 레이어 생성 <br>\n",
        "- 아래의 코드에서 입력 레이어 inputs의 경우, Conv2D 레이어와 Flatten 레이어의 입력으로 사용되므로 입력 레이어는 2개의 출력을 갖게 됨\n",
        "- 서로 다른 2개의 출력은 각각 다른 레이어의 입력으로 사용되고, 최종적으로 Concatenate 레이어에서 합쳐진 다음에 Dense 레이어를 통과함"
      ],
      "metadata": {
        "id": "W3exo1mb4qTr"
      }
    },
    {
      "cell_type": "code",
      "source": [
        "#Functional API를 사용하여 모델 생성\n",
        "\n",
        "inputs = tf.keras.layers.Input(shape=(28,28,1))\n",
        "\n",
        "conv = tf.keras.layers.Conv2D(32, (3,3), activation='relu')(inputs)\n",
        "pool = tf.keras.layers.MaxPooling2D((2,2))(conv)\n",
        "flat = tf.keras.layers.Flatten()(pool)\n",
        "\n",
        "flat_inputs = tf.keras.layers.Flatten()(inputs)\n",
        "concat = tf.keras.layers.Concatenate()([flat, flat_inputs])\n",
        "outputs = tf.keras.layers.Dense(10, activation='softmax')(concat)\n",
        "\n",
        "model = tf.keras.models.Model(inputs=inputs, outputs=outputs)\n",
        "\n",
        "model.summary()"
      ],
      "metadata": {
        "colab": {
          "base_uri": "https://localhost:8080/"
        },
        "id": "P23YbUGa4oG4",
        "outputId": "52a896a4-2491-4847-9cbf-8c8652fbeecc"
      },
      "execution_count": 34,
      "outputs": [
        {
          "output_type": "stream",
          "name": "stdout",
          "text": [
            "Model: \"model_1\"\n",
            "__________________________________________________________________________________________________\n",
            " Layer (type)                   Output Shape         Param #     Connected to                     \n",
            "==================================================================================================\n",
            " input_2 (InputLayer)           [(None, 28, 28, 1)]  0           []                               \n",
            "                                                                                                  \n",
            " conv2d_1 (Conv2D)              (None, 26, 26, 32)   320         ['input_2[0][0]']                \n",
            "                                                                                                  \n",
            " max_pooling2d_1 (MaxPooling2D)  (None, 13, 13, 32)  0           ['conv2d_1[0][0]']               \n",
            "                                                                                                  \n",
            " flatten_3 (Flatten)            (None, 5408)         0           ['max_pooling2d_1[0][0]']        \n",
            "                                                                                                  \n",
            " flatten_4 (Flatten)            (None, 784)          0           ['input_2[0][0]']                \n",
            "                                                                                                  \n",
            " concatenate_1 (Concatenate)    (None, 6192)         0           ['flatten_3[0][0]',              \n",
            "                                                                  'flatten_4[0][0]']              \n",
            "                                                                                                  \n",
            " dense_2 (Dense)                (None, 10)           61930       ['concatenate_1[0][0]']          \n",
            "                                                                                                  \n",
            "==================================================================================================\n",
            "Total params: 62,250\n",
            "Trainable params: 62,250\n",
            "Non-trainable params: 0\n",
            "__________________________________________________________________________________________________\n"
          ]
        }
      ]
    },
    {
      "cell_type": "code",
      "source": [
        "#모델 구조 출력 및 이미지 파일로 저장\n",
        "from tensorflow.keras.utils import plot_model\n",
        "plot_model(model, show_shapes=True, show_layer_names=True, to_file='functional_cnn.png')"
      ],
      "metadata": {
        "colab": {
          "base_uri": "https://localhost:8080/",
          "height": 644
        },
        "id": "1q3J8MU15aDm",
        "outputId": "077df68c-08c8-43cb-efc2-4d3e788d4835"
      },
      "execution_count": 37,
      "outputs": [
        {
          "output_type": "execute_result",
          "data": {
            "image/png": "[encoded data removed]",
            "text/plain": [
              "<IPython.core.display.Image object>"
            ]
          },
          "metadata": {},
          "execution_count": 37
        }
      ]
    },
    {
      "cell_type": "markdown",
      "source": [
        "- 다중 분류 모델에 맞게 손실함수와 평가지표를 지정하고, 옵티마이저로는 adam을 사용함"
      ],
      "metadata": {
        "id": "cvx4Wls86Aal"
      }
    },
    {
      "cell_type": "code",
      "source": [
        "#모델 컴파일\n",
        "model.compile(optimizer='adam', loss='sparse_categorical_crossentropy', metrics=['accuracy'])\n",
        "\n",
        "#모델 훈련\n",
        "history = model.fit(x_train_in, y_train,\n",
        "                    validation_data = (x_valid_in, y_valid),\n",
        "                    epochs = 10)\n",
        "\n",
        "#모델 성능\n",
        "val_loss, val_acc = model.evaluate(x_valid_in, y_valid)\n",
        "print(val_loss, val_acc)"
      ],
      "metadata": {
        "colab": {
          "base_uri": "https://localhost:8080/"
        },
        "id": "hGYwZAoS5pDo",
        "outputId": "99e26d6a-7a1a-4cd6-f506-a961473d0057"
      },
      "execution_count": 38,
      "outputs": [
        {
          "output_type": "stream",
          "name": "stdout",
          "text": [
            "Epoch 1/10\n",
            "1875/1875 [==============================] - 40s 21ms/step - loss: 0.2104 - accuracy: 0.9401 - val_loss: 0.0930 - val_accuracy: 0.9736\n",
            "Epoch 2/10\n",
            "1875/1875 [==============================] - 36s 19ms/step - loss: 0.0801 - accuracy: 0.9762 - val_loss: 0.0660 - val_accuracy: 0.9781\n",
            "Epoch 3/10\n",
            "1875/1875 [==============================] - 37s 20ms/step - loss: 0.0604 - accuracy: 0.9820 - val_loss: 0.0597 - val_accuracy: 0.9791\n",
            "Epoch 4/10\n",
            "1875/1875 [==============================] - 35s 19ms/step - loss: 0.0488 - accuracy: 0.9850 - val_loss: 0.0584 - val_accuracy: 0.9809\n",
            "Epoch 5/10\n",
            "1875/1875 [==============================] - 36s 19ms/step - loss: 0.0406 - accuracy: 0.9880 - val_loss: 0.0563 - val_accuracy: 0.9833\n",
            "Epoch 6/10\n",
            "1875/1875 [==============================] - 37s 20ms/step - loss: 0.0348 - accuracy: 0.9890 - val_loss: 0.0520 - val_accuracy: 0.9841\n",
            "Epoch 7/10\n",
            "1875/1875 [==============================] - 35s 19ms/step - loss: 0.0287 - accuracy: 0.9909 - val_loss: 0.0616 - val_accuracy: 0.9809\n",
            "Epoch 8/10\n",
            "1875/1875 [==============================] - 35s 19ms/step - loss: 0.0243 - accuracy: 0.9923 - val_loss: 0.0721 - val_accuracy: 0.9791\n",
            "Epoch 9/10\n",
            "1875/1875 [==============================] - 35s 19ms/step - loss: 0.0207 - accuracy: 0.9935 - val_loss: 0.0556 - val_accuracy: 0.9824\n",
            "Epoch 10/10\n",
            "1875/1875 [==============================] - 37s 19ms/step - loss: 0.0177 - accuracy: 0.9947 - val_loss: 0.0538 - val_accuracy: 0.9845\n",
            "313/313 [==============================] - 3s 8ms/step - loss: 0.0538 - accuracy: 0.9845\n",
            "0.05378986895084381 0.984499990940094\n"
          ]
        }
      ]
    },
    {
      "cell_type": "markdown",
      "source": [
        "### 3-3 다중 출력 분류 모델 <br>\n",
        "- 두 가지 서로 다른 분류 문제를 예측하는 다중 출력 모델로, 0~9까지 숫자를 맞추는 분류 문제와 홀수, 짝수를 맞추는 분류 문제를 동시에 풀어내는 모델임\n",
        "- 각기 다른 문제에 맞도록 최종 분류기의 출력 레이어를 2개 만드는 것이 핵심임\n",
        "<br><a href='https://ifh.cc/v-XC670N' target='_blank'><img src='https://ifh.cc/g/XC670N.png' border='0'></a>"
      ],
      "metadata": {
        "id": "RvjUASNU6mmz"
      }
    },
    {
      "cell_type": "code",
      "source": [
        "#Functional API를 사용하여 모델 생성\n",
        "\n",
        "inputs = tf.keras.layers.Input(shape=(28,28,1), name='inputs')\n",
        "\n",
        "conv = tf.keras.layers.Conv2D(32, (3,3), activation='relu', name='conv2d_layer')(inputs)\n",
        "pool = tf.keras.layers.MaxPooling2D((2,2), name='maxpool_layer')(conv)\n",
        "flat = tf.keras.layers.Flatten(name='flatten_layer')(pool)\n",
        "\n",
        "flat_inputs = tf.keras.layers.Flatten()(inputs)\n",
        "concat = tf.keras.layers.Concatenate()([flat, flat_inputs])\n",
        "digit_outputs = tf.keras.layers.Dense(10, activation='softmax', name='digit_dense')(concat)\n",
        "\n",
        "odd_outputs = tf.keras.layers.Dense(1, activation='sigmoid', name='odd_dense')(flat_inputs)\n",
        "\n",
        "model = tf.keras.models.Model(inputs=inputs, outputs=[digit_outputs, odd_outputs])\n",
        "\n",
        "model.summary()"
      ],
      "metadata": {
        "colab": {
          "base_uri": "https://localhost:8080/"
        },
        "id": "asncedB-9sCM",
        "outputId": "28b5a7cb-107c-41ba-ee07-4e873c410fd5"
      },
      "execution_count": 41,
      "outputs": [
        {
          "output_type": "stream",
          "name": "stdout",
          "text": [
            "Model: \"model_2\"\n",
            "__________________________________________________________________________________________________\n",
            " Layer (type)                   Output Shape         Param #     Connected to                     \n",
            "==================================================================================================\n",
            " inputs (InputLayer)            [(None, 28, 28, 1)]  0           []                               \n",
            "                                                                                                  \n",
            " conv2d_layer (Conv2D)          (None, 26, 26, 32)   320         ['inputs[0][0]']                 \n",
            "                                                                                                  \n",
            " maxpool_layer (MaxPooling2D)   (None, 13, 13, 32)   0           ['conv2d_layer[0][0]']           \n",
            "                                                                                                  \n",
            " flatten_layer (Flatten)        (None, 5408)         0           ['maxpool_layer[0][0]']          \n",
            "                                                                                                  \n",
            " flatten_7 (Flatten)            (None, 784)          0           ['inputs[0][0]']                 \n",
            "                                                                                                  \n",
            " concatenate_4 (Concatenate)    (None, 6192)         0           ['flatten_layer[0][0]',          \n",
            "                                                                  'flatten_7[0][0]']              \n",
            "                                                                                                  \n",
            " digit_dense (Dense)            (None, 10)           61930       ['concatenate_4[0][0]']          \n",
            "                                                                                                  \n",
            " odd_dense (Dense)              (None, 1)            785         ['flatten_7[0][0]']              \n",
            "                                                                                                  \n",
            "==================================================================================================\n",
            "Total params: 63,035\n",
            "Trainable params: 63,035\n",
            "Non-trainable params: 0\n",
            "__________________________________________________________________________________________________\n"
          ]
        }
      ]
    },
    {
      "cell_type": "code",
      "source": [
        "#모델의 입력과 출력을 나타내는 텐서\n",
        "print(model.input)\n",
        "print(model.output)"
      ],
      "metadata": {
        "colab": {
          "base_uri": "https://localhost:8080/"
        },
        "id": "U6vpXzSX-E7n",
        "outputId": "9653aab5-66e2-4cb5-bfb5-2939570d8757"
      },
      "execution_count": 42,
      "outputs": [
        {
          "output_type": "stream",
          "name": "stdout",
          "text": [
            "KerasTensor(type_spec=TensorSpec(shape=(None, 28, 28, 1), dtype=tf.float32, name='inputs'), name='inputs', description=\"created by layer 'inputs'\")\n",
            "[<KerasTensor: shape=(None, 10) dtype=float32 (created by layer 'digit_dense')>, <KerasTensor: shape=(None, 1) dtype=float32 (created by layer 'odd_dense')>]\n"
          ]
        }
      ]
    },
    {
      "cell_type": "code",
      "source": [
        "plot_model(model, show_shapes=True, show_layer_names=True, to_file='multi_output_cnn.png')"
      ],
      "metadata": {
        "colab": {
          "base_uri": "https://localhost:8080/",
          "height": 644
        },
        "id": "sKRPJ8bm-ODz",
        "outputId": "60e0a545-7f6c-491c-8fa6-66b2d930849f"
      },
      "execution_count": 43,
      "outputs": [
        {
          "output_type": "execute_result",
          "data": {
            "image/png": "[encoded data removed]",
            "text/plain": [
              "<IPython.core.display.Image object>"
            ]
          },
          "metadata": {},
          "execution_count": 43
        }
      ]
    },
    {
      "cell_type": "markdown",
      "source": [
        "- 앞서 모델을 정의할 때 각각의 출력 Dense 레이어에 name 속성으로 'digit_dense', 'odd_dense'와 같은 이름으로 지정함\n",
        "- 모델을 컴파일할 때 여기서 지정한 이름을 key로 하고, 해당 key에 해당하는 레이어에 적용할 손실함수와 가중치를 딕셔너리 형태로 지정함\n",
        "<br><br>\n",
        "- 모델을 훈련시키기 위해 `fit()` 메소드를 적용할 때도 출력 값을 2개 지정하고, 레이어 이름 속성을 key로 하는 딕셔너리 형태로 각각의 출력에 맞는 정답 배열을 입력해야 함"
      ],
      "metadata": {
        "id": "j3NIJwCO-t05"
      }
    },
    {
      "cell_type": "code",
      "source": [
        "#모델 컴파일\n",
        "model.compile(optimizer = 'adam', loss = {'digit_dense':'sparse_categorical_crossentropy', 'odd_dense':'binary_crossentropy'},\n",
        "              loss_weights = {'digit_dense':1, 'odd_dense':0.5},\n",
        "              #loss = 1.0 * sparse_categorical_crossentropy + 0.5 * binary_crossentropy\n",
        "              metrics = ['accuracy'])\n",
        "\n",
        "#모델 훈련\n",
        "history = model.fit({'inputs':x_train_in}, {'digit_dense':y_train, 'odd_dense':y_train_odd},\n",
        "                    validation_data = ({'inputs':x_valid_in}, {'digit_dense':y_valid, 'odd_dense':y_valid_odd}), \n",
        "                    epochs = 10)"
      ],
      "metadata": {
        "colab": {
          "base_uri": "https://localhost:8080/"
        },
        "id": "I4M3xApb-qwJ",
        "outputId": "7c85abbd-3434-4712-ff8d-e92cda4677ae"
      },
      "execution_count": 48,
      "outputs": [
        {
          "output_type": "stream",
          "name": "stdout",
          "text": [
            "Epoch 1/10\n",
            "1875/1875 [==============================] - 50s 26ms/step - loss: 0.3750 - digit_dense_loss: 0.2141 - odd_dense_loss: 0.3219 - digit_dense_accuracy: 0.9396 - odd_dense_accuracy: 0.8671 - val_loss: 0.2301 - val_digit_dense_loss: 0.0932 - val_odd_dense_loss: 0.2738 - val_digit_dense_accuracy: 0.9730 - val_odd_dense_accuracy: 0.8902\n",
            "Epoch 2/10\n",
            "1875/1875 [==============================] - 53s 28ms/step - loss: 0.2180 - digit_dense_loss: 0.0824 - odd_dense_loss: 0.2713 - digit_dense_accuracy: 0.9761 - odd_dense_accuracy: 0.8919 - val_loss: 0.2039 - val_digit_dense_loss: 0.0722 - val_odd_dense_loss: 0.2633 - val_digit_dense_accuracy: 0.9764 - val_odd_dense_accuracy: 0.8965\n",
            "Epoch 3/10\n",
            "1875/1875 [==============================] - 39s 21ms/step - loss: 0.1929 - digit_dense_loss: 0.0616 - odd_dense_loss: 0.2627 - digit_dense_accuracy: 0.9820 - odd_dense_accuracy: 0.8958 - val_loss: 0.1879 - val_digit_dense_loss: 0.0583 - val_odd_dense_loss: 0.2592 - val_digit_dense_accuracy: 0.9821 - val_odd_dense_accuracy: 0.8982\n",
            "Epoch 4/10\n",
            "1875/1875 [==============================] - 37s 20ms/step - loss: 0.1793 - digit_dense_loss: 0.0499 - odd_dense_loss: 0.2589 - digit_dense_accuracy: 0.9850 - odd_dense_accuracy: 0.8975 - val_loss: 0.1863 - val_digit_dense_loss: 0.0579 - val_odd_dense_loss: 0.2569 - val_digit_dense_accuracy: 0.9817 - val_odd_dense_accuracy: 0.8999\n",
            "Epoch 5/10\n",
            "1875/1875 [==============================] - 37s 20ms/step - loss: 0.1693 - digit_dense_loss: 0.0409 - odd_dense_loss: 0.2568 - digit_dense_accuracy: 0.9873 - odd_dense_accuracy: 0.8984 - val_loss: 0.1834 - val_digit_dense_loss: 0.0549 - val_odd_dense_loss: 0.2570 - val_digit_dense_accuracy: 0.9839 - val_odd_dense_accuracy: 0.9009\n",
            "Epoch 6/10\n",
            "1875/1875 [==============================] - 38s 20ms/step - loss: 0.1621 - digit_dense_loss: 0.0342 - odd_dense_loss: 0.2559 - digit_dense_accuracy: 0.9896 - odd_dense_accuracy: 0.8995 - val_loss: 0.1847 - val_digit_dense_loss: 0.0569 - val_odd_dense_loss: 0.2557 - val_digit_dense_accuracy: 0.9813 - val_odd_dense_accuracy: 0.9009\n",
            "Epoch 7/10\n",
            "1875/1875 [==============================] - 38s 20ms/step - loss: 0.1581 - digit_dense_loss: 0.0305 - odd_dense_loss: 0.2551 - digit_dense_accuracy: 0.9907 - odd_dense_accuracy: 0.9001 - val_loss: 0.1817 - val_digit_dense_loss: 0.0536 - val_odd_dense_loss: 0.2562 - val_digit_dense_accuracy: 0.9839 - val_odd_dense_accuracy: 0.9019\n",
            "Epoch 8/10\n",
            "1875/1875 [==============================] - 37s 20ms/step - loss: 0.1522 - digit_dense_loss: 0.0251 - odd_dense_loss: 0.2540 - digit_dense_accuracy: 0.9925 - odd_dense_accuracy: 0.9007 - val_loss: 0.1814 - val_digit_dense_loss: 0.0535 - val_odd_dense_loss: 0.2557 - val_digit_dense_accuracy: 0.9834 - val_odd_dense_accuracy: 0.9004\n",
            "Epoch 9/10\n",
            "1875/1875 [==============================] - 38s 20ms/step - loss: 0.1491 - digit_dense_loss: 0.0223 - odd_dense_loss: 0.2536 - digit_dense_accuracy: 0.9930 - odd_dense_accuracy: 0.9010 - val_loss: 0.1977 - val_digit_dense_loss: 0.0691 - val_odd_dense_loss: 0.2571 - val_digit_dense_accuracy: 0.9809 - val_odd_dense_accuracy: 0.8995\n",
            "Epoch 10/10\n",
            "1875/1875 [==============================] - 37s 20ms/step - loss: 0.1453 - digit_dense_loss: 0.0186 - odd_dense_loss: 0.2535 - digit_dense_accuracy: 0.9945 - odd_dense_accuracy: 0.9007 - val_loss: 0.1866 - val_digit_dense_loss: 0.0588 - val_odd_dense_loss: 0.2557 - val_digit_dense_accuracy: 0.9831 - val_odd_dense_accuracy: 0.9010\n"
          ]
        }
      ]
    },
    {
      "cell_type": "code",
      "source": [
        "#모델 성능\n",
        "model.evaluate({'inputs':x_valid_in}, {'digit_dense':y_valid, 'odd_dense':y_valid_odd})"
      ],
      "metadata": {
        "colab": {
          "base_uri": "https://localhost:8080/"
        },
        "id": "TDz3mZP2_sdY",
        "outputId": "6e2df5fd-508c-4a90-f6df-6bd4c2e7f876"
      },
      "execution_count": 49,
      "outputs": [
        {
          "output_type": "stream",
          "name": "stdout",
          "text": [
            "313/313 [==============================] - 3s 9ms/step - loss: 0.1866 - digit_dense_loss: 0.0588 - odd_dense_loss: 0.2557 - digit_dense_accuracy: 0.9831 - odd_dense_accuracy: 0.9010\n"
          ]
        },
        {
          "output_type": "execute_result",
          "data": {
            "text/plain": [
              "[0.18664568662643433,\n",
              " 0.058805353939533234,\n",
              " 0.25568053126335144,\n",
              " 0.9830999970436096,\n",
              " 0.9010000228881836]"
            ]
          },
          "metadata": {},
          "execution_count": 49
        }
      ]
    },
    {
      "cell_type": "code",
      "source": [
        "#샘플 이미지 출력\n",
        "import matplotlib.pylab as plt\n",
        "\n",
        "def plot_image(data, idx):\n",
        "    plt.figure(figsize=(5,5))\n",
        "    plt.imshow(data[idx])\n",
        "    plt.axis('off')\n",
        "    plt.show()\n",
        "\n",
        "plot_image(x_valid, 0)"
      ],
      "metadata": {
        "colab": {
          "base_uri": "https://localhost:8080/",
          "height": 303
        },
        "id": "X0lUJagAAaUM",
        "outputId": "638310bb-b7b7-48b0-e35e-9dd671ced731"
      },
      "execution_count": 50,
      "outputs": [
        {
          "output_type": "display_data",
          "data": {
            "text/plain": [
              "<Figure size 360x360 with 1 Axes>"
            ],
            "image/png": "[encoded data removed]"
          },
          "metadata": {
            "needs_background": "light"
          }
        }
      ]
    },
    {
      "cell_type": "code",
      "source": [
        "digit_preds, odd_preds = model.predict(x_valid_in)\n",
        "print(digit_preds[0])\n",
        "print(odd_preds[0])"
      ],
      "metadata": {
        "colab": {
          "base_uri": "https://localhost:8080/"
        },
        "id": "zwJ31X1ICaS0",
        "outputId": "165231aa-b7cf-41aa-a607-71d61da03470"
      },
      "execution_count": 51,
      "outputs": [
        {
          "output_type": "stream",
          "name": "stdout",
          "text": [
            "313/313 [==============================] - 3s 11ms/step\n",
            "[2.27504132e-13 3.23746530e-10 1.67580616e-09 1.15231035e-06\n",
            " 1.20691478e-11 2.93558428e-12 5.47336445e-21 9.99998748e-01\n",
            " 1.30728735e-08 1.02737854e-08]\n",
            "[0.99960625]\n"
          ]
        }
      ]
    },
    {
      "cell_type": "code",
      "source": [
        "digit_labels = np.argmax(digit_preds, axis=-1) #예측 확률을 실제 정답 레이블로 변환\n",
        "digit_labels[0:10]"
      ],
      "metadata": {
        "colab": {
          "base_uri": "https://localhost:8080/"
        },
        "id": "-CBQ1qXVCjBD",
        "outputId": "ea1bdd6d-8487-4cdc-c0e5-2ba144543ef7"
      },
      "execution_count": 53,
      "outputs": [
        {
          "output_type": "execute_result",
          "data": {
            "text/plain": [
              "array([7, 2, 1, 0, 4, 1, 4, 9, 5, 9])"
            ]
          },
          "metadata": {},
          "execution_count": 53
        }
      ]
    },
    {
      "cell_type": "code",
      "source": [
        "odd_labels = (odd_preds > 0.5).astype(np.int).reshape(1,-1)[0]\n",
        "odd_labels[0:10]"
      ],
      "metadata": {
        "colab": {
          "base_uri": "https://localhost:8080/"
        },
        "id": "nmEIQJlUCqlj",
        "outputId": "b5740410-dc43-4e5a-8efe-0bd668d0ac66"
      },
      "execution_count": 54,
      "outputs": [
        {
          "output_type": "stream",
          "name": "stderr",
          "text": [
            "<ipython-input-54-067746257099>:1: DeprecationWarning: `np.int` is a deprecated alias for the builtin `int`. To silence this warning, use `int` by itself. Doing this will not modify any behavior and is safe. When replacing `np.int`, you may wish to use e.g. `np.int64` or `np.int32` to specify the precision. If you wish to review your current use, check the release note link for additional information.\n",
            "Deprecated in NumPy 1.20; for more details and guidance: https://numpy.org/devdocs/release/1.20.0-notes.html#deprecations\n",
            "  odd_labels = (odd_preds > 0.5).astype(np.int).reshape(1,-1)[0]\n"
          ]
        },
        {
          "output_type": "execute_result",
          "data": {
            "text/plain": [
              "array([1, 0, 1, 0, 0, 1, 0, 1, 0, 1])"
            ]
          },
          "metadata": {},
          "execution_count": 54
        }
      ]
    },
    {
      "cell_type": "markdown",
      "source": [
        "### 3-4 전이 학습 (Transfer Learning) <br>\n",
        "- 앞서 훈련한 모델의 일부를 가져와서 그대로 사용하고, 최종 출력층만 새롭게 추가하여 모델을 재구성할 수 있음\n",
        "- 이처럼 기존에 학습된 모델을 활용해 새로운 모델을 만들어 내는 개념을 Transfer Learning이라고 부름\n",
        "<br><a href='https://ifh.cc/v-PFOs8A' target='_blank'><img src='https://ifh.cc/g/PFOs8A.jpg' border='0'></a>"
      ],
      "metadata": {
        "id": "hnQg6cDdC762"
      }
    },
    {
      "cell_type": "code",
      "source": [
        "#앞의 모델에서 flatten_layer 출력을 추출\n",
        "base_model_output = model.get_layer('flatten_layer').output\n",
        "\n",
        "#앞의 출력을 출력으로 하는 모델 정의\n",
        "base_model = tf.keras.models.Model(inputs=model.input, outputs=base_model_output, name='base')\n",
        "base_model.summary()"
      ],
      "metadata": {
        "colab": {
          "base_uri": "https://localhost:8080/"
        },
        "id": "fL7RmnlZDJPH",
        "outputId": "9e39494a-a6b5-41a2-9625-cd3c2c355732"
      },
      "execution_count": 56,
      "outputs": [
        {
          "output_type": "stream",
          "name": "stdout",
          "text": [
            "Model: \"base\"\n",
            "_________________________________________________________________\n",
            " Layer (type)                Output Shape              Param #   \n",
            "=================================================================\n",
            " inputs (InputLayer)         [(None, 28, 28, 1)]       0         \n",
            "                                                                 \n",
            " conv2d_layer (Conv2D)       (None, 26, 26, 32)        320       \n",
            "                                                                 \n",
            " maxpool_layer (MaxPooling2D  (None, 13, 13, 32)       0         \n",
            " )                                                               \n",
            "                                                                 \n",
            " flatten_layer (Flatten)     (None, 5408)              0         \n",
            "                                                                 \n",
            "=================================================================\n",
            "Total params: 320\n",
            "Trainable params: 320\n",
            "Non-trainable params: 0\n",
            "_________________________________________________________________\n"
          ]
        }
      ]
    },
    {
      "cell_type": "code",
      "source": [
        "plot_model(base_model, show_shapes=True, show_layer_names=True, to_file='base_model.png')"
      ],
      "metadata": {
        "colab": {
          "base_uri": "https://localhost:8080/",
          "height": 422
        },
        "id": "7Sk4IygQDkBA",
        "outputId": "9f44649c-d31d-41a6-d89d-81d9c1908b8d"
      },
      "execution_count": 57,
      "outputs": [
        {
          "output_type": "execute_result",
          "data": {
            "image/png": "[encoded data removed]",
            "text/plain": [
              "<IPython.core.display.Image object>"
            ]
          },
          "metadata": {},
          "execution_count": 57
        }
      ]
    },
    {
      "cell_type": "code",
      "source": [
        "#Sequential API 적용\n",
        "digit_model = tf.keras.Sequential([base_model, #앞에서 정의한 base_model을 레이어로 추가\n",
        "                                   tf.keras.layers.Dense(10, activation='softmax')]) #최종 분류기 Dense 레이어 추가\n",
        "\n",
        "digit_model.summary()"
      ],
      "metadata": {
        "colab": {
          "base_uri": "https://localhost:8080/"
        },
        "id": "58jPbwlhDsTa",
        "outputId": "4c85d648-19a2-48d7-97e6-5532ad1b9049"
      },
      "execution_count": 58,
      "outputs": [
        {
          "output_type": "stream",
          "name": "stdout",
          "text": [
            "Model: \"sequential_1\"\n",
            "_________________________________________________________________\n",
            " Layer (type)                Output Shape              Param #   \n",
            "=================================================================\n",
            " base (Functional)           (None, 5408)              320       \n",
            "                                                                 \n",
            " dense_3 (Dense)             (None, 10)                54090     \n",
            "                                                                 \n",
            "=================================================================\n",
            "Total params: 54,410\n",
            "Trainable params: 54,410\n",
            "Non-trainable params: 0\n",
            "_________________________________________________________________\n"
          ]
        }
      ]
    },
    {
      "cell_type": "markdown",
      "source": [
        "- Trainable params는 모델 훈련 시 파라미터 값이 업데이트됨"
      ],
      "metadata": {
        "id": "GPFtqYQMEFcH"
      }
    },
    {
      "cell_type": "code",
      "source": [
        "plot_model(digit_model, show_shapes=True, show_layer_names=True, to_file='digit_model.png')"
      ],
      "metadata": {
        "colab": {
          "base_uri": "https://localhost:8080/",
          "height": 312
        },
        "id": "Gz7KfbDPEEuH",
        "outputId": "76477157-1621-4d59-9a58-783bd0f1a066"
      },
      "execution_count": 59,
      "outputs": [
        {
          "output_type": "execute_result",
          "data": {
            "image/png": "[encoded data removed]",
            "text/plain": [
              "<IPython.core.display.Image object>"
            ]
          },
          "metadata": {},
          "execution_count": 59
        }
      ]
    },
    {
      "cell_type": "code",
      "source": [
        "#모델 컴파일\n",
        "digit_model.compile(optimizer='adam', loss='sparse_categorical_crossentropy', metrics=['accuracy'])\n",
        "\n",
        "#모델 훈련\n",
        "history = digit_model.fit(x_train_in, y_train,\n",
        "                          validation_data=(x_valid_in, y_valid),\n",
        "                          epochs=10)"
      ],
      "metadata": {
        "colab": {
          "base_uri": "https://localhost:8080/"
        },
        "id": "254dXKiSEUQI",
        "outputId": "50b3e4e3-49c8-4aa7-f69f-348644f0ddda"
      },
      "execution_count": 63,
      "outputs": [
        {
          "output_type": "stream",
          "name": "stdout",
          "text": [
            "Epoch 1/10\n",
            "1875/1875 [==============================] - 44s 23ms/step - loss: 0.0807 - accuracy: 0.9759 - val_loss: 0.0636 - val_accuracy: 0.9802\n",
            "Epoch 2/10\n",
            "1875/1875 [==============================] - 44s 23ms/step - loss: 0.0528 - accuracy: 0.9847 - val_loss: 0.0507 - val_accuracy: 0.9831\n",
            "Epoch 3/10\n",
            "1875/1875 [==============================] - 41s 22ms/step - loss: 0.0419 - accuracy: 0.9870 - val_loss: 0.0601 - val_accuracy: 0.9809\n",
            "Epoch 4/10\n",
            "1875/1875 [==============================] - 46s 25ms/step - loss: 0.0337 - accuracy: 0.9900 - val_loss: 0.0487 - val_accuracy: 0.9842\n",
            "Epoch 5/10\n",
            "1875/1875 [==============================] - 48s 25ms/step - loss: 0.0283 - accuracy: 0.9915 - val_loss: 0.0513 - val_accuracy: 0.9833\n",
            "Epoch 6/10\n",
            "1875/1875 [==============================] - 43s 23ms/step - loss: 0.0241 - accuracy: 0.9927 - val_loss: 0.0522 - val_accuracy: 0.9843\n",
            "Epoch 7/10\n",
            "1875/1875 [==============================] - 48s 26ms/step - loss: 0.0201 - accuracy: 0.9935 - val_loss: 0.0563 - val_accuracy: 0.9831\n",
            "Epoch 8/10\n",
            "1875/1875 [==============================] - 46s 25ms/step - loss: 0.0167 - accuracy: 0.9947 - val_loss: 0.0572 - val_accuracy: 0.9831\n",
            "Epoch 9/10\n",
            "1875/1875 [==============================] - 35s 19ms/step - loss: 0.0142 - accuracy: 0.9958 - val_loss: 0.0576 - val_accuracy: 0.9837\n",
            "Epoch 10/10\n",
            "1875/1875 [==============================] - 34s 18ms/step - loss: 0.0120 - accuracy: 0.9964 - val_loss: 0.0592 - val_accuracy: 0.9840\n"
          ]
        }
      ]
    },
    {
      "cell_type": "code",
      "source": [
        "#베이스 모델의 가중치 고정 (Freeze Model)\n",
        "\n",
        "base_model_frozen = tf.keras.models.Model(inputs=model.input, outputs=base_model_output, name='base_frozen')\n",
        "base_model_frozen.trainable = False #모델이 고정되어 훈련을 통해서 업데이트되지 않음\n",
        "base_model_frozen.summary()"
      ],
      "metadata": {
        "colab": {
          "base_uri": "https://localhost:8080/"
        },
        "id": "mO5uTgoHEfUK",
        "outputId": "f22afce4-e4c3-4354-f5fe-767ea1635021"
      },
      "execution_count": 64,
      "outputs": [
        {
          "output_type": "stream",
          "name": "stdout",
          "text": [
            "Model: \"base_frozen\"\n",
            "_________________________________________________________________\n",
            " Layer (type)                Output Shape              Param #   \n",
            "=================================================================\n",
            " inputs (InputLayer)         [(None, 28, 28, 1)]       0         \n",
            "                                                                 \n",
            " conv2d_layer (Conv2D)       (None, 26, 26, 32)        320       \n",
            "                                                                 \n",
            " maxpool_layer (MaxPooling2D  (None, 13, 13, 32)       0         \n",
            " )                                                               \n",
            "                                                                 \n",
            " flatten_layer (Flatten)     (None, 5408)              0         \n",
            "                                                                 \n",
            "=================================================================\n",
            "Total params: 320\n",
            "Trainable params: 0\n",
            "Non-trainable params: 320\n",
            "_________________________________________________________________\n"
          ]
        }
      ]
    },
    {
      "cell_type": "markdown",
      "source": [
        "- 총 파라미터 개수는 54410개이고 앞서 고정한 320개의 파라미터는 훈련이 불가능함\n",
        "- 훈련 가능한 파라미터는 Flatten 레이어의 출력 5408개와 Dense 레이어의 10개 노드 사이의 가중치만 해당됨\n",
        "- 즉, Flatten 레이어 이전에 존재하는 Conv2D 레이어의 파라미터 320개는 포함되지 않게 됨"
      ],
      "metadata": {
        "id": "BIskpWywGRp9"
      }
    },
    {
      "cell_type": "code",
      "source": [
        "#Functional API 적용\n",
        "dense_output = tf.keras.layers.Dense(10, activation='softmax')(base_model_frozen.output)\n",
        "digit_model_frozen = tf.keras.models.Model(inputs=base_model_frozen.input, outputs=dense_output)\n",
        "digit_model_frozen.summary()"
      ],
      "metadata": {
        "colab": {
          "base_uri": "https://localhost:8080/"
        },
        "id": "OzbkoMkfGHbn",
        "outputId": "5e0c9dae-9d90-4554-ab0d-f67018f568ac"
      },
      "execution_count": 65,
      "outputs": [
        {
          "output_type": "stream",
          "name": "stdout",
          "text": [
            "Model: \"model_3\"\n",
            "_________________________________________________________________\n",
            " Layer (type)                Output Shape              Param #   \n",
            "=================================================================\n",
            " inputs (InputLayer)         [(None, 28, 28, 1)]       0         \n",
            "                                                                 \n",
            " conv2d_layer (Conv2D)       (None, 26, 26, 32)        320       \n",
            "                                                                 \n",
            " maxpool_layer (MaxPooling2D  (None, 13, 13, 32)       0         \n",
            " )                                                               \n",
            "                                                                 \n",
            " flatten_layer (Flatten)     (None, 5408)              0         \n",
            "                                                                 \n",
            " dense_4 (Dense)             (None, 10)                54090     \n",
            "                                                                 \n",
            "=================================================================\n",
            "Total params: 54,410\n",
            "Trainable params: 54,090\n",
            "Non-trainable params: 320\n",
            "_________________________________________________________________\n"
          ]
        }
      ]
    },
    {
      "cell_type": "code",
      "source": [
        "#모델 컴파일\n",
        "digit_model_frozen.compile(optimizer='adam', loss='sparse_categorical_crossentropy', metrics=['accuracy'])\n",
        "\n",
        "#모델 훈련\n",
        "history = digit_model_frozen.fit(x_train_in, y_train,\n",
        "                                 validation_data=(x_valid_in, y_valid),\n",
        "                                 epochs=10)"
      ],
      "metadata": {
        "colab": {
          "base_uri": "https://localhost:8080/"
        },
        "id": "RbYqArwEGvva",
        "outputId": "8048355b-d9ca-4d09-9bf1-58579aa7102a"
      },
      "execution_count": 66,
      "outputs": [
        {
          "output_type": "stream",
          "name": "stdout",
          "text": [
            "Epoch 1/10\n",
            "1875/1875 [==============================] - 20s 10ms/step - loss: 0.1185 - accuracy: 0.9676 - val_loss: 0.0568 - val_accuracy: 0.9810\n",
            "Epoch 2/10\n",
            "1875/1875 [==============================] - 18s 10ms/step - loss: 0.0497 - accuracy: 0.9855 - val_loss: 0.0472 - val_accuracy: 0.9855\n",
            "Epoch 3/10\n",
            "1875/1875 [==============================] - 18s 10ms/step - loss: 0.0362 - accuracy: 0.9889 - val_loss: 0.0481 - val_accuracy: 0.9838\n",
            "Epoch 4/10\n",
            "1875/1875 [==============================] - 18s 10ms/step - loss: 0.0295 - accuracy: 0.9910 - val_loss: 0.0530 - val_accuracy: 0.9832\n",
            "Epoch 5/10\n",
            "1875/1875 [==============================] - 18s 10ms/step - loss: 0.0236 - accuracy: 0.9929 - val_loss: 0.0487 - val_accuracy: 0.9851\n",
            "Epoch 6/10\n",
            "1875/1875 [==============================] - 18s 10ms/step - loss: 0.0196 - accuracy: 0.9939 - val_loss: 0.0537 - val_accuracy: 0.9846\n",
            "Epoch 7/10\n",
            "1875/1875 [==============================] - 19s 10ms/step - loss: 0.0165 - accuracy: 0.9950 - val_loss: 0.0532 - val_accuracy: 0.9840\n",
            "Epoch 8/10\n",
            "1875/1875 [==============================] - 18s 10ms/step - loss: 0.0135 - accuracy: 0.9960 - val_loss: 0.0571 - val_accuracy: 0.9839\n",
            "Epoch 9/10\n",
            "1875/1875 [==============================] - 19s 10ms/step - loss: 0.0112 - accuracy: 0.9966 - val_loss: 0.0640 - val_accuracy: 0.9836\n",
            "Epoch 10/10\n",
            "1875/1875 [==============================] - 18s 10ms/step - loss: 0.0096 - accuracy: 0.9974 - val_loss: 0.0609 - val_accuracy: 0.9837\n"
          ]
        }
      ]
    },
    {
      "cell_type": "markdown",
      "source": [
        "- 모델 전체가 아니라 특정 레이어를 지정하여 파라미터가 업데이트되지 않도록 고정하는 방법도 가능함"
      ],
      "metadata": {
        "id": "sav69DMfG0D7"
      }
    },
    {
      "cell_type": "code",
      "source": [
        "#베이스 모델의 Conv2D 레이어의 가중치만 고정 (Freeze Layer)\n",
        "base_model_frozen2 = tf.keras.models.Model(inputs=model.input, outputs=base_model_output, name='base_frozen2')\n",
        "base_model_frozen2.get_layer('conv2d_layer').trainable = False\n",
        "base_model_frozen2.summary()"
      ],
      "metadata": {
        "colab": {
          "base_uri": "https://localhost:8080/"
        },
        "id": "UxGuahacG3qt",
        "outputId": "3161142c-6138-4928-ec5b-949140d2eecc"
      },
      "execution_count": 67,
      "outputs": [
        {
          "output_type": "stream",
          "name": "stdout",
          "text": [
            "Model: \"base_frozen2\"\n",
            "_________________________________________________________________\n",
            " Layer (type)                Output Shape              Param #   \n",
            "=================================================================\n",
            " inputs (InputLayer)         [(None, 28, 28, 1)]       0         \n",
            "                                                                 \n",
            " conv2d_layer (Conv2D)       (None, 26, 26, 32)        320       \n",
            "                                                                 \n",
            " maxpool_layer (MaxPooling2D  (None, 13, 13, 32)       0         \n",
            " )                                                               \n",
            "                                                                 \n",
            " flatten_layer (Flatten)     (None, 5408)              0         \n",
            "                                                                 \n",
            "=================================================================\n",
            "Total params: 320\n",
            "Trainable params: 0\n",
            "Non-trainable params: 320\n",
            "_________________________________________________________________\n"
          ]
        }
      ]
    },
    {
      "cell_type": "code",
      "source": [
        "#Functional API 적용\n",
        "dense_output2 = tf.keras.layers.Dense(10, activation='softmax')(base_model_frozen2.output)\n",
        "digit_model_frozen2 = tf.keras.models.Model(inputs=base_model_frozen2.input, outputs=dense_output2)\n",
        "digit_model_frozen2.summary()"
      ],
      "metadata": {
        "colab": {
          "base_uri": "https://localhost:8080/"
        },
        "id": "F3qyFBnnHEzg",
        "outputId": "c0ff688b-98c3-4855-e1ad-d24ad7c9fc90"
      },
      "execution_count": 68,
      "outputs": [
        {
          "output_type": "stream",
          "name": "stdout",
          "text": [
            "Model: \"model_4\"\n",
            "_________________________________________________________________\n",
            " Layer (type)                Output Shape              Param #   \n",
            "=================================================================\n",
            " inputs (InputLayer)         [(None, 28, 28, 1)]       0         \n",
            "                                                                 \n",
            " conv2d_layer (Conv2D)       (None, 26, 26, 32)        320       \n",
            "                                                                 \n",
            " maxpool_layer (MaxPooling2D  (None, 13, 13, 32)       0         \n",
            " )                                                               \n",
            "                                                                 \n",
            " flatten_layer (Flatten)     (None, 5408)              0         \n",
            "                                                                 \n",
            " dense_5 (Dense)             (None, 10)                54090     \n",
            "                                                                 \n",
            "=================================================================\n",
            "Total params: 54,410\n",
            "Trainable params: 54,090\n",
            "Non-trainable params: 320\n",
            "_________________________________________________________________\n"
          ]
        }
      ]
    },
    {
      "cell_type": "code",
      "source": [
        "#모델 컴파일\n",
        "digit_model_frozen2.compile(optimizer='adam', loss='sparse_categorical_crossentropy', metrics=['accuracy'])\n",
        "\n",
        "#모델 훈련\n",
        "history = digit_model_frozen2.fit(x_train_in, y_train,\n",
        "                                  validation_data=(x_valid_in, y_valid),\n",
        "                                  epochs=10)"
      ],
      "metadata": {
        "colab": {
          "base_uri": "https://localhost:8080/"
        },
        "id": "JtlgCszkHMgY",
        "outputId": "12b68d14-f5ff-4c5d-fb23-ca53b882e57d"
      },
      "execution_count": 69,
      "outputs": [
        {
          "output_type": "stream",
          "name": "stdout",
          "text": [
            "Epoch 1/10\n",
            "1875/1875 [==============================] - 19s 10ms/step - loss: 0.1158 - accuracy: 0.9692 - val_loss: 0.0591 - val_accuracy: 0.9806\n",
            "Epoch 2/10\n",
            "1875/1875 [==============================] - 18s 10ms/step - loss: 0.0501 - accuracy: 0.9852 - val_loss: 0.0469 - val_accuracy: 0.9857\n",
            "Epoch 3/10\n",
            "1875/1875 [==============================] - 18s 10ms/step - loss: 0.0366 - accuracy: 0.9891 - val_loss: 0.0510 - val_accuracy: 0.9834\n",
            "Epoch 4/10\n",
            "1875/1875 [==============================] - 18s 10ms/step - loss: 0.0300 - accuracy: 0.9908 - val_loss: 0.0513 - val_accuracy: 0.9834\n",
            "Epoch 5/10\n",
            "1875/1875 [==============================] - 18s 10ms/step - loss: 0.0235 - accuracy: 0.9931 - val_loss: 0.0558 - val_accuracy: 0.9830\n",
            "Epoch 6/10\n",
            "1875/1875 [==============================] - 18s 10ms/step - loss: 0.0192 - accuracy: 0.9941 - val_loss: 0.0540 - val_accuracy: 0.9835\n",
            "Epoch 7/10\n",
            "1875/1875 [==============================] - 18s 10ms/step - loss: 0.0158 - accuracy: 0.9954 - val_loss: 0.0572 - val_accuracy: 0.9831\n",
            "Epoch 8/10\n",
            "1875/1875 [==============================] - 19s 10ms/step - loss: 0.0135 - accuracy: 0.9956 - val_loss: 0.0595 - val_accuracy: 0.9839\n",
            "Epoch 9/10\n",
            "1875/1875 [==============================] - 18s 10ms/step - loss: 0.0110 - accuracy: 0.9969 - val_loss: 0.0595 - val_accuracy: 0.9842\n",
            "Epoch 10/10\n",
            "1875/1875 [==============================] - 18s 10ms/step - loss: 0.0105 - accuracy: 0.9970 - val_loss: 0.0610 - val_accuracy: 0.9843\n"
          ]
        }
      ]
    }
  ]
}